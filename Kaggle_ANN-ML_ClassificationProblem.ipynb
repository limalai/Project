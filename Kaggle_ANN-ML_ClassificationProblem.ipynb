{
  "nbformat": 4,
  "nbformat_minor": 0,
  "metadata": {
    "colab": {
      "provenance": []
    },
    "kernelspec": {
      "name": "python3",
      "display_name": "Python 3"
    },
    "language_info": {
      "name": "python"
    }
  },
  "cells": [
    {
      "cell_type": "markdown",
      "source": [
        "**ML 643021249-5 ลิมาลัย ปิยะแสง sec1**"
      ],
      "metadata": {
        "id": "kiM2vdfYcXCO"
      }
    },
    {
      "cell_type": "code",
      "source": [
        "from sklearn.preprocessing import LabelEncoder, MinMaxScaler\n",
        "import pandas as pd\n",
        "import numpy as np\n",
        "import tensorflow as tf\n",
        "from sklearn.model_selection import train_test_split\n",
        "\n",
        "train_data = pd.read_csv('/content/train_dataset.csv')\n",
        "test_data = pd.read_csv('/content/test_dataset.csv')\n",
        "\n",
        "X_train = train_data.iloc[:, 1:-1].values\n",
        "y_train = train_data['class'].values\n",
        "X_test = test_data.iloc[:, 1:].values\n",
        "test_ids = test_data['id'].values\n",
        "\n",
        "scaler = MinMaxScaler()\n",
        "X_train = scaler.fit_transform(X_train)\n",
        "X_test = scaler.transform(X_test)"
      ],
      "metadata": {
        "id": "pN8XgccgnRSZ"
      },
      "execution_count": null,
      "outputs": []
    },
    {
      "cell_type": "code",
      "source": [
        "label_encoder = LabelEncoder()\n",
        "y_train_encoded = label_encoder.fit_transform(y_train)\n",
        "\n",
        "X_train, X_val, y_train_encoded, y_val_encoded = train_test_split(X_train, y_train_encoded, test_size=0.25, random_state=1)\n",
        "\n",
        "num_classes = len(label_encoder.classes_)\n",
        "y_train = tf.keras.utils.to_categorical(y_train_encoded, num_classes=num_classes)\n",
        "y_val = tf.keras.utils.to_categorical(y_val_encoded, num_classes=num_classes)\n",
        "\n",
        "model = tf.keras.Sequential()\n",
        "model.add(tf.keras.layers.Dense(64, activation='relu'))\n",
        "model.add(tf.keras.layers.Dense(32, activation='relu'))\n",
        "model.add(tf.keras.layers.Dense(num_classes, activation='softmax'))\n",
        "\n",
        "model.compile(optimizer='adam', loss='categorical_crossentropy', metrics=['accuracy'])\n",
        "model.fit(X_train, y_train, epochs=50, batch_size=32, validation_data=(X_val, y_val), verbose=2)\n",
        "\n",
        "y_pred = model.predict(X_test)\n",
        "y_pred_class = np.argmax(y_pred, axis=-1)\n",
        "\n",
        "submission_df = pd.DataFrame({'id': test_ids, 'class': y_pred_class})\n",
        "\n",
        "submission_df.to_csv('submission.csv', index=False)"
      ],
      "metadata": {
        "colab": {
          "base_uri": "https://localhost:8080/"
        },
        "id": "dtCxjUHurdBU",
        "outputId": "d972f508-3895-48b1-fda5-28c74b2d4129"
      },
      "execution_count": null,
      "outputs": [
        {
          "output_type": "stream",
          "name": "stdout",
          "text": [
            "Epoch 1/50\n",
            "63/63 - 1s - loss: 0.9473 - accuracy: 0.6111 - val_loss: 0.8575 - val_accuracy: 0.6702 - 939ms/epoch - 15ms/step\n",
            "Epoch 2/50\n",
            "63/63 - 0s - loss: 0.7708 - accuracy: 0.6915 - val_loss: 0.7765 - val_accuracy: 0.6852 - 144ms/epoch - 2ms/step\n",
            "Epoch 3/50\n",
            "63/63 - 0s - loss: 0.7104 - accuracy: 0.7095 - val_loss: 0.7429 - val_accuracy: 0.6988 - 149ms/epoch - 2ms/step\n",
            "Epoch 4/50\n",
            "63/63 - 0s - loss: 0.6806 - accuracy: 0.7246 - val_loss: 0.7262 - val_accuracy: 0.7063 - 191ms/epoch - 3ms/step\n",
            "Epoch 5/50\n",
            "63/63 - 0s - loss: 0.6560 - accuracy: 0.7337 - val_loss: 0.7012 - val_accuracy: 0.7093 - 176ms/epoch - 3ms/step\n",
            "Epoch 6/50\n",
            "63/63 - 0s - loss: 0.6424 - accuracy: 0.7422 - val_loss: 0.6816 - val_accuracy: 0.7244 - 175ms/epoch - 3ms/step\n",
            "Epoch 7/50\n",
            "63/63 - 0s - loss: 0.6217 - accuracy: 0.7482 - val_loss: 0.6674 - val_accuracy: 0.7334 - 190ms/epoch - 3ms/step\n",
            "Epoch 8/50\n",
            "63/63 - 0s - loss: 0.6090 - accuracy: 0.7533 - val_loss: 0.6593 - val_accuracy: 0.7349 - 142ms/epoch - 2ms/step\n",
            "Epoch 9/50\n",
            "63/63 - 0s - loss: 0.5954 - accuracy: 0.7628 - val_loss: 0.6541 - val_accuracy: 0.7259 - 156ms/epoch - 2ms/step\n",
            "Epoch 10/50\n",
            "63/63 - 0s - loss: 0.5874 - accuracy: 0.7573 - val_loss: 0.7000 - val_accuracy: 0.7139 - 135ms/epoch - 2ms/step\n",
            "Epoch 11/50\n",
            "63/63 - 0s - loss: 0.5856 - accuracy: 0.7719 - val_loss: 0.6570 - val_accuracy: 0.7274 - 173ms/epoch - 3ms/step\n",
            "Epoch 12/50\n",
            "63/63 - 0s - loss: 0.5791 - accuracy: 0.7648 - val_loss: 0.6323 - val_accuracy: 0.7651 - 156ms/epoch - 2ms/step\n",
            "Epoch 13/50\n",
            "63/63 - 0s - loss: 0.5686 - accuracy: 0.7683 - val_loss: 0.6407 - val_accuracy: 0.7515 - 181ms/epoch - 3ms/step\n",
            "Epoch 14/50\n",
            "63/63 - 0s - loss: 0.5745 - accuracy: 0.7643 - val_loss: 0.6300 - val_accuracy: 0.7620 - 176ms/epoch - 3ms/step\n",
            "Epoch 15/50\n",
            "63/63 - 0s - loss: 0.5541 - accuracy: 0.7724 - val_loss: 0.6442 - val_accuracy: 0.7334 - 169ms/epoch - 3ms/step\n",
            "Epoch 16/50\n",
            "63/63 - 0s - loss: 0.5542 - accuracy: 0.7809 - val_loss: 0.6345 - val_accuracy: 0.7395 - 206ms/epoch - 3ms/step\n",
            "Epoch 17/50\n",
            "63/63 - 0s - loss: 0.5494 - accuracy: 0.7754 - val_loss: 0.6410 - val_accuracy: 0.7485 - 144ms/epoch - 2ms/step\n",
            "Epoch 18/50\n",
            "63/63 - 0s - loss: 0.5394 - accuracy: 0.7789 - val_loss: 0.6228 - val_accuracy: 0.7651 - 172ms/epoch - 3ms/step\n",
            "Epoch 19/50\n",
            "63/63 - 0s - loss: 0.5354 - accuracy: 0.7844 - val_loss: 0.6331 - val_accuracy: 0.7410 - 141ms/epoch - 2ms/step\n",
            "Epoch 20/50\n",
            "63/63 - 0s - loss: 0.5302 - accuracy: 0.7829 - val_loss: 0.6289 - val_accuracy: 0.7666 - 173ms/epoch - 3ms/step\n",
            "Epoch 21/50\n",
            "63/63 - 0s - loss: 0.5244 - accuracy: 0.7824 - val_loss: 0.6642 - val_accuracy: 0.7214 - 179ms/epoch - 3ms/step\n",
            "Epoch 22/50\n",
            "63/63 - 0s - loss: 0.5280 - accuracy: 0.7824 - val_loss: 0.6364 - val_accuracy: 0.7500 - 151ms/epoch - 2ms/step\n",
            "Epoch 23/50\n",
            "63/63 - 0s - loss: 0.5186 - accuracy: 0.7920 - val_loss: 0.6582 - val_accuracy: 0.7199 - 186ms/epoch - 3ms/step\n",
            "Epoch 24/50\n",
            "63/63 - 0s - loss: 0.5135 - accuracy: 0.7899 - val_loss: 0.6446 - val_accuracy: 0.7500 - 178ms/epoch - 3ms/step\n",
            "Epoch 25/50\n",
            "63/63 - 0s - loss: 0.5093 - accuracy: 0.7935 - val_loss: 0.6413 - val_accuracy: 0.7500 - 185ms/epoch - 3ms/step\n",
            "Epoch 26/50\n",
            "63/63 - 0s - loss: 0.5103 - accuracy: 0.7864 - val_loss: 0.6292 - val_accuracy: 0.7575 - 173ms/epoch - 3ms/step\n",
            "Epoch 27/50\n",
            "63/63 - 0s - loss: 0.5065 - accuracy: 0.7899 - val_loss: 0.6369 - val_accuracy: 0.7500 - 148ms/epoch - 2ms/step\n",
            "Epoch 28/50\n",
            "63/63 - 0s - loss: 0.5000 - accuracy: 0.7950 - val_loss: 0.6697 - val_accuracy: 0.7229 - 149ms/epoch - 2ms/step\n",
            "Epoch 29/50\n",
            "63/63 - 0s - loss: 0.4963 - accuracy: 0.8010 - val_loss: 0.6592 - val_accuracy: 0.7364 - 174ms/epoch - 3ms/step\n",
            "Epoch 30/50\n",
            "63/63 - 0s - loss: 0.4917 - accuracy: 0.8015 - val_loss: 0.6475 - val_accuracy: 0.7470 - 175ms/epoch - 3ms/step\n",
            "Epoch 31/50\n",
            "63/63 - 0s - loss: 0.4885 - accuracy: 0.7970 - val_loss: 0.6600 - val_accuracy: 0.7364 - 150ms/epoch - 2ms/step\n",
            "Epoch 32/50\n",
            "63/63 - 0s - loss: 0.4884 - accuracy: 0.8015 - val_loss: 0.6607 - val_accuracy: 0.7274 - 151ms/epoch - 2ms/step\n",
            "Epoch 33/50\n",
            "63/63 - 0s - loss: 0.4811 - accuracy: 0.8040 - val_loss: 0.6564 - val_accuracy: 0.7440 - 181ms/epoch - 3ms/step\n",
            "Epoch 34/50\n",
            "63/63 - 0s - loss: 0.4786 - accuracy: 0.8045 - val_loss: 0.6514 - val_accuracy: 0.7410 - 141ms/epoch - 2ms/step\n",
            "Epoch 35/50\n",
            "63/63 - 0s - loss: 0.4748 - accuracy: 0.8035 - val_loss: 0.6654 - val_accuracy: 0.7289 - 178ms/epoch - 3ms/step\n",
            "Epoch 36/50\n",
            "63/63 - 0s - loss: 0.4774 - accuracy: 0.8156 - val_loss: 0.6563 - val_accuracy: 0.7410 - 147ms/epoch - 2ms/step\n",
            "Epoch 37/50\n",
            "63/63 - 0s - loss: 0.4664 - accuracy: 0.8161 - val_loss: 0.6758 - val_accuracy: 0.7334 - 181ms/epoch - 3ms/step\n",
            "Epoch 38/50\n",
            "63/63 - 0s - loss: 0.4683 - accuracy: 0.8055 - val_loss: 0.6754 - val_accuracy: 0.7364 - 179ms/epoch - 3ms/step\n",
            "Epoch 39/50\n",
            "63/63 - 0s - loss: 0.4721 - accuracy: 0.8070 - val_loss: 0.6617 - val_accuracy: 0.7440 - 190ms/epoch - 3ms/step\n",
            "Epoch 40/50\n",
            "63/63 - 0s - loss: 0.4630 - accuracy: 0.8166 - val_loss: 0.6595 - val_accuracy: 0.7410 - 149ms/epoch - 2ms/step\n",
            "Epoch 41/50\n",
            "63/63 - 0s - loss: 0.4621 - accuracy: 0.8126 - val_loss: 0.6610 - val_accuracy: 0.7455 - 170ms/epoch - 3ms/step\n",
            "Epoch 42/50\n",
            "63/63 - 0s - loss: 0.4655 - accuracy: 0.8141 - val_loss: 0.6808 - val_accuracy: 0.7319 - 179ms/epoch - 3ms/step\n",
            "Epoch 43/50\n",
            "63/63 - 0s - loss: 0.4514 - accuracy: 0.8156 - val_loss: 0.7062 - val_accuracy: 0.7214 - 186ms/epoch - 3ms/step\n",
            "Epoch 44/50\n",
            "63/63 - 0s - loss: 0.4551 - accuracy: 0.8251 - val_loss: 0.6920 - val_accuracy: 0.7259 - 138ms/epoch - 2ms/step\n",
            "Epoch 45/50\n",
            "63/63 - 0s - loss: 0.4471 - accuracy: 0.8251 - val_loss: 0.6769 - val_accuracy: 0.7410 - 185ms/epoch - 3ms/step\n",
            "Epoch 46/50\n",
            "63/63 - 0s - loss: 0.4428 - accuracy: 0.8286 - val_loss: 0.7126 - val_accuracy: 0.7154 - 175ms/epoch - 3ms/step\n",
            "Epoch 47/50\n",
            "63/63 - 0s - loss: 0.4476 - accuracy: 0.8246 - val_loss: 0.6923 - val_accuracy: 0.7334 - 172ms/epoch - 3ms/step\n",
            "Epoch 48/50\n",
            "63/63 - 0s - loss: 0.4443 - accuracy: 0.8231 - val_loss: 0.7311 - val_accuracy: 0.7018 - 146ms/epoch - 2ms/step\n",
            "Epoch 49/50\n",
            "63/63 - 0s - loss: 0.4367 - accuracy: 0.8276 - val_loss: 0.7002 - val_accuracy: 0.7289 - 185ms/epoch - 3ms/step\n",
            "Epoch 50/50\n",
            "63/63 - 0s - loss: 0.4344 - accuracy: 0.8362 - val_loss: 0.6940 - val_accuracy: 0.7214 - 143ms/epoch - 2ms/step\n",
            "56/56 [==============================] - 0s 2ms/step\n"
          ]
        }
      ]
    }
  ]
}