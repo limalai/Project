{
  "nbformat": 4,
  "nbformat_minor": 0,
  "metadata": {
    "colab": {
      "provenance": [],
      "toc_visible": true,
      "collapsed_sections": [
        "P4NqvN8OsmS_",
        "E307AkePuw6F",
        "1sbod2L8T_Bd"
      ]
    },
    "kernelspec": {
      "name": "python3",
      "display_name": "Python 3"
    },
    "language_info": {
      "name": "python"
    }
  },
  "cells": [
    {
      "cell_type": "markdown",
      "source": [
        "**643020493-9 นายศุภวิชญ์  จำรัส**\n",
        "\n",
        "**643021249-5 นางสาวลิมาลัย ปิยะแสง**"
      ],
      "metadata": {
        "id": "94V1aJvZrOzx"
      }
    },
    {
      "cell_type": "markdown",
      "source": [
        "# **Import Library**\n",
        "\n",
        "**import pandas** ไว้ใช้สร้าง Dataframe\n",
        "\n",
        "**import numpy** ไว้ใช้ในการจัดการชุดข้อมูล\n",
        "\n",
        "**import matplotlib** ไว้ใช้ในการสร้างกราฟ\n",
        "\n",
        "**import seaborn** เพื่อใช้ในการพล็อตกราฟ\n",
        "\n",
        "**import requests** เพื่อใช้ในการดึงข้อมูล"
      ],
      "metadata": {
        "id": "eqhua3WiWloB"
      }
    },
    {
      "cell_type": "code",
      "execution_count": null,
      "metadata": {
        "id": "KZQypblYU1vy"
      },
      "outputs": [],
      "source": [
        "import pandas as pd\n",
        "import numpy as np\n",
        "import matplotlib.pyplot as plt\n",
        "import seaborn as sns\n",
        "import re\n",
        "import requests\n",
        "%matplotlib inline"
      ]
    },
    {
      "cell_type": "markdown",
      "source": [
        "# **Import CSV file from Github to Colab**\n",
        "\n",
        "ในส่วนนี้ได้ทำการ upload ไฟล์ csv ขึ้นไปไว้บน github เพื่อความสะดวกในดาวน์โหลดการนำมาใช้งาน\n",
        "\n",
        "---\n",
        "\n",
        "\n",
        "Main datasets from:\n",
        "\n",
        "https://www.kaggle.com/datasets/shivamb/netflix-shows\n",
        "\n",
        "https://www.kaggle.com/datasets/shivamb/disney-movies-and-tv-shows\n",
        "\n",
        "https://www.kaggle.com/datasets/ruchi798/movies-on-netflix-prime-video-hulu-and-disney"
      ],
      "metadata": {
        "id": "cvi1P6_-Z1qY"
      }
    },
    {
      "cell_type": "code",
      "source": [
        "#url = 'link(url) raw ที่ upload ไว้บน github'\n",
        "netflix_url = 'https://raw.githubusercontent.com/spw32767/EDAproject/main/netflix_titles.csv'\n",
        "disney_url = 'https://raw.githubusercontent.com/spw32767/EDAproject/main/disney_plus_titles.csv'\n",
        "\n",
        "#ดึงข้อมูลมาใส่ไว้ใน Dataframe\n",
        "df_nf  = pd.read_csv(netflix_url) #df_nf = dataframe netflix\n",
        "df_dp = pd.read_csv(disney_url) #df_dp = dataframe disney"
      ],
      "metadata": {
        "id": "a1SKbvGjZ7-H"
      },
      "execution_count": null,
      "outputs": []
    },
    {
      "cell_type": "code",
      "source": [
        "#สร้างตัวแปรเก็บค่าสีเพื่อใช้ในการพล็อตกราฟ\n",
        "nf_color = '#E50914'\n",
        "dp_color = '#113CCF'\n",
        "white_color = '#FFFFFF'\n",
        "bg_color = '#363336'"
      ],
      "metadata": {
        "id": "krdR5Y8t1sdV"
      },
      "execution_count": null,
      "outputs": []
    },
    {
      "cell_type": "markdown",
      "source": [
        "## **แสดงหัวข้อของ column ทั้งหมด**\n",
        "เช็คจำนวน column ของทั้งสอง การที่จำนวน column เท่ากันทำให้ง่ายต่อการวิเคราะห์ข้อมูล"
      ],
      "metadata": {
        "id": "P4NqvN8OsmS_"
      }
    },
    {
      "cell_type": "code",
      "source": [
        "print(f'หัวข้อ column ของ Netflix:\\n\\n {df_nf.columns}\\n')\n",
        "print(f'หัวข้อ column ของ Disney+:\\n\\n {df_dp.columns}')"
      ],
      "metadata": {
        "colab": {
          "base_uri": "https://localhost:8080/"
        },
        "id": "HoYjqqPVsTS_",
        "outputId": "c636de92-6e3c-4986-c510-03c07a9ce9ed"
      },
      "execution_count": null,
      "outputs": [
        {
          "output_type": "stream",
          "name": "stdout",
          "text": [
            "หัวข้อ column ของ Netflix:\n",
            "\n",
            " Index(['show_id', 'type', 'title', 'director', 'cast', 'country', 'date_added',\n",
            "       'release_year', 'rating', 'duration', 'listed_in', 'description'],\n",
            "      dtype='object')\n",
            "\n",
            "หัวข้อ column ของ Disney+:\n",
            "\n",
            " Index(['show_id', 'type', 'title', 'director', 'cast', 'country', 'date_added',\n",
            "       'release_year', 'rating', 'duration', 'listed_in', 'description'],\n",
            "      dtype='object')\n"
          ]
        }
      ]
    },
    {
      "cell_type": "markdown",
      "source": [
        "***จะได้อย่างละ 12 column***\n",
        "\n",
        "**Netflix:**\n",
        "\n",
        "\n",
        "> ['show_id', 'type', 'title', 'director', 'cast', 'country', 'date_added','release_year', 'rating', 'duration', 'listed_in', 'description']\n",
        "\n",
        "\n",
        "**Disney+**\n",
        "\n",
        "\n",
        "> ['show_id', 'type', 'title', 'director', 'cast', 'country', 'date_added','release_year', 'rating', 'duration', 'listed_in', 'description']\n",
        "\n",
        "\n",
        "---\n",
        "\n",
        "***แบ่งเป็น 3 type***\n",
        "\n",
        "**String**      :      10 (show_id, type, title, director, cast, country, rating, duration, listed_in, description)\n",
        "\n",
        "**DateTime** : 1 (date_added)\n",
        "\n",
        "**Integer**    : 1 (release_year)\n"
      ],
      "metadata": {
        "id": "6vpu0nKfssEx"
      }
    },
    {
      "cell_type": "markdown",
      "source": [
        "## **แสดงจำนวน row ทั้งหมด**"
      ],
      "metadata": {
        "id": "E307AkePuw6F"
      }
    },
    {
      "cell_type": "code",
      "source": [
        "print(f'จำนวน Row ทั้งหมดของ Netflix   : {len(df_nf)}\\n')\n",
        "print(f'จำนวน Row ทั้งหมดของ Disney  : {len(df_dp)}')"
      ],
      "metadata": {
        "colab": {
          "base_uri": "https://localhost:8080/"
        },
        "id": "UgnY61d9uomd",
        "outputId": "d51a5113-2ecd-4241-dc0b-b0caa302d2aa"
      },
      "execution_count": null,
      "outputs": [
        {
          "output_type": "stream",
          "name": "stdout",
          "text": [
            "จำนวน Row ทั้งหมดของ Netflix   : 8807\n",
            "\n",
            "จำนวน Row ทั้งหมดของ Disney  : 1450\n"
          ]
        }
      ]
    },
    {
      "cell_type": "markdown",
      "source": [
        "# **Exploratory Data Analysis**"
      ],
      "metadata": {
        "id": "pYdXI3C34HWq"
      }
    },
    {
      "cell_type": "markdown",
      "source": [
        "ขั้นตอนแรกคือทำการเช็คว่าในชุดข้อมูลมี null อยู่ทั้งหมดกี่ตัว"
      ],
      "metadata": {
        "id": "jHX22RaI7IAR"
      }
    },
    {
      "cell_type": "code",
      "source": [
        "#df_nf.isnull().sum()\n",
        "print(f'Netflix:\\n{df_nf.isnull().sum()}\\n')\n",
        "print(f'Disney:\\n{df_dp.isnull().sum()}')"
      ],
      "metadata": {
        "colab": {
          "base_uri": "https://localhost:8080/"
        },
        "id": "OvYKWX5l7ORj",
        "outputId": "54a073c6-e53d-46d9-d009-3577c4db0479"
      },
      "execution_count": null,
      "outputs": [
        {
          "output_type": "stream",
          "name": "stdout",
          "text": [
            "Netflix:\n",
            "show_id            0\n",
            "type               0\n",
            "title              0\n",
            "director        2634\n",
            "cast             825\n",
            "country          831\n",
            "date_added        10\n",
            "release_year       0\n",
            "rating             4\n",
            "duration           3\n",
            "listed_in          0\n",
            "description        0\n",
            "dtype: int64\n",
            "\n",
            "Disney:\n",
            "show_id           0\n",
            "type              0\n",
            "title             0\n",
            "director        473\n",
            "cast            190\n",
            "country         219\n",
            "date_added        3\n",
            "release_year      0\n",
            "rating            3\n",
            "duration          0\n",
            "listed_in         0\n",
            "description       0\n",
            "dtype: int64\n"
          ]
        }
      ]
    },
    {
      "cell_type": "markdown",
      "source": [
        "เราจะทำการ drop ข้อมูล director, cast และ country เนื่องจากมีข้อมูล null มากอาจจะส่งผลต่อการจัดการข้อมูลได้ และข้อมูลในส่วนนี้ไม่จำเป็นในการวิเคราะห์"
      ],
      "metadata": {
        "id": "-MJFFDGZBEW7"
      }
    },
    {
      "cell_type": "code",
      "source": [
        "#drop director, cast และ country\n",
        "df_nf = df_nf.drop(['director','cast', 'country'], axis = 1) #axis = 0 คือ row | axis = 1 คือ column\n",
        "df_dp = df_dp.drop(['director','cast', 'country'], axis = 1)"
      ],
      "metadata": {
        "id": "it4I9bggBT4J"
      },
      "execution_count": null,
      "outputs": []
    },
    {
      "cell_type": "markdown",
      "source": [
        "แทนที่ Missing Values ที่เหลือให้หมด"
      ],
      "metadata": {
        "id": "0Eu5hbK4XQ0K"
      }
    },
    {
      "cell_type": "code",
      "source": [
        "#แทนที่ Missing Values ใน rating ด้วย NR = No Rated\n",
        "df_nf['rating'].replace(to_replace = np.nan, value = \"NR\",inplace=True)\n",
        "df_dp['rating'].replace(to_replace = np.nan, value = \"NR\",inplace=True)\n",
        "\n",
        "#แทนที่ Missing Values ใน date_added ด้วย method: ffill\n",
        "df_nf['date_added']= df_nf['date_added'].fillna(method=\"ffill\")\n",
        "df_dp['date_added']= df_dp['date_added'].fillna(method=\"ffill\")\n",
        "\n",
        "#แทนที่ Missing Values ใน duration ด้วย method: ffill\n",
        "df_nf['duration']= df_nf['duration'].fillna(method=\"ffill\")"
      ],
      "metadata": {
        "id": "HU3kDZOXnSnD"
      },
      "execution_count": null,
      "outputs": []
    },
    {
      "cell_type": "code",
      "source": [
        "#ทำการเช็คว่าในชุดข้อมูลมี null เหลือยู่กี่ตัว\n",
        "print(f'Netflix:\\n{df_nf.isnull().sum()}\\n')\n",
        "print(f'Disney:\\n{df_dp.isnull().sum()}')"
      ],
      "metadata": {
        "colab": {
          "base_uri": "https://localhost:8080/"
        },
        "id": "4tANdErPnsO7",
        "outputId": "957c96d4-9c96-4100-e859-0adc2f8e6f0a"
      },
      "execution_count": null,
      "outputs": [
        {
          "output_type": "stream",
          "name": "stdout",
          "text": [
            "Netflix:\n",
            "show_id         0\n",
            "type            0\n",
            "title           0\n",
            "date_added      0\n",
            "release_year    0\n",
            "rating          0\n",
            "duration        0\n",
            "listed_in       0\n",
            "description     0\n",
            "dtype: int64\n",
            "\n",
            "Disney:\n",
            "show_id         0\n",
            "type            0\n",
            "title           0\n",
            "date_added      0\n",
            "release_year    0\n",
            "rating          0\n",
            "duration        0\n",
            "listed_in       0\n",
            "description     0\n",
            "dtype: int64\n"
          ]
        }
      ]
    },
    {
      "cell_type": "markdown",
      "source": [
        "เมื่อเช็คแล้วไม่มีข้อมูล null เหลืออยู่ จึงสามารถเริ่มทำการวิเคราะห์ข้อมูล"
      ],
      "metadata": {
        "id": "whk6P0SdqFOf"
      }
    },
    {
      "cell_type": "code",
      "source": [
        "#เช็ครูปแบบชุดข้อมูล Netflix\n",
        "df_nf.head(5)"
      ],
      "metadata": {
        "colab": {
          "base_uri": "https://localhost:8080/",
          "height": 337
        },
        "id": "KdPgQ7nLeB9K",
        "outputId": "d6c2dd8e-dc36-457e-d861-7d777261dcea"
      },
      "execution_count": null,
      "outputs": [
        {
          "output_type": "execute_result",
          "data": {
            "text/plain": [
              "  show_id     type                  title          date_added  release_year  \\\n",
              "0      s1    Movie   Dick Johnson Is Dead  September 25, 2021          2020   \n",
              "1      s2  TV Show          Blood & Water  September 24, 2021          2021   \n",
              "2      s3  TV Show              Ganglands  September 24, 2021          2021   \n",
              "3      s4  TV Show  Jailbirds New Orleans  September 24, 2021          2021   \n",
              "4      s5  TV Show           Kota Factory  September 24, 2021          2021   \n",
              "\n",
              "  rating   duration                                          listed_in  \\\n",
              "0  PG-13     90 min                                      Documentaries   \n",
              "1  TV-MA  2 Seasons    International TV Shows, TV Dramas, TV Mysteries   \n",
              "2  TV-MA   1 Season  Crime TV Shows, International TV Shows, TV Act...   \n",
              "3  TV-MA   1 Season                             Docuseries, Reality TV   \n",
              "4  TV-MA  2 Seasons  International TV Shows, Romantic TV Shows, TV ...   \n",
              "\n",
              "                                         description  \n",
              "0  As her father nears the end of his life, filmm...  \n",
              "1  After crossing paths at a party, a Cape Town t...  \n",
              "2  To protect his family from a powerful drug lor...  \n",
              "3  Feuds, flirtations and toilet talk go down amo...  \n",
              "4  In a city of coaching centers known to train I...  "
            ],
            "text/html": [
              "\n",
              "  <div id=\"df-8febe709-639e-4647-bce1-db6859647611\">\n",
              "    <div class=\"colab-df-container\">\n",
              "      <div>\n",
              "<style scoped>\n",
              "    .dataframe tbody tr th:only-of-type {\n",
              "        vertical-align: middle;\n",
              "    }\n",
              "\n",
              "    .dataframe tbody tr th {\n",
              "        vertical-align: top;\n",
              "    }\n",
              "\n",
              "    .dataframe thead th {\n",
              "        text-align: right;\n",
              "    }\n",
              "</style>\n",
              "<table border=\"1\" class=\"dataframe\">\n",
              "  <thead>\n",
              "    <tr style=\"text-align: right;\">\n",
              "      <th></th>\n",
              "      <th>show_id</th>\n",
              "      <th>type</th>\n",
              "      <th>title</th>\n",
              "      <th>date_added</th>\n",
              "      <th>release_year</th>\n",
              "      <th>rating</th>\n",
              "      <th>duration</th>\n",
              "      <th>listed_in</th>\n",
              "      <th>description</th>\n",
              "    </tr>\n",
              "  </thead>\n",
              "  <tbody>\n",
              "    <tr>\n",
              "      <th>0</th>\n",
              "      <td>s1</td>\n",
              "      <td>Movie</td>\n",
              "      <td>Dick Johnson Is Dead</td>\n",
              "      <td>September 25, 2021</td>\n",
              "      <td>2020</td>\n",
              "      <td>PG-13</td>\n",
              "      <td>90 min</td>\n",
              "      <td>Documentaries</td>\n",
              "      <td>As her father nears the end of his life, filmm...</td>\n",
              "    </tr>\n",
              "    <tr>\n",
              "      <th>1</th>\n",
              "      <td>s2</td>\n",
              "      <td>TV Show</td>\n",
              "      <td>Blood &amp; Water</td>\n",
              "      <td>September 24, 2021</td>\n",
              "      <td>2021</td>\n",
              "      <td>TV-MA</td>\n",
              "      <td>2 Seasons</td>\n",
              "      <td>International TV Shows, TV Dramas, TV Mysteries</td>\n",
              "      <td>After crossing paths at a party, a Cape Town t...</td>\n",
              "    </tr>\n",
              "    <tr>\n",
              "      <th>2</th>\n",
              "      <td>s3</td>\n",
              "      <td>TV Show</td>\n",
              "      <td>Ganglands</td>\n",
              "      <td>September 24, 2021</td>\n",
              "      <td>2021</td>\n",
              "      <td>TV-MA</td>\n",
              "      <td>1 Season</td>\n",
              "      <td>Crime TV Shows, International TV Shows, TV Act...</td>\n",
              "      <td>To protect his family from a powerful drug lor...</td>\n",
              "    </tr>\n",
              "    <tr>\n",
              "      <th>3</th>\n",
              "      <td>s4</td>\n",
              "      <td>TV Show</td>\n",
              "      <td>Jailbirds New Orleans</td>\n",
              "      <td>September 24, 2021</td>\n",
              "      <td>2021</td>\n",
              "      <td>TV-MA</td>\n",
              "      <td>1 Season</td>\n",
              "      <td>Docuseries, Reality TV</td>\n",
              "      <td>Feuds, flirtations and toilet talk go down amo...</td>\n",
              "    </tr>\n",
              "    <tr>\n",
              "      <th>4</th>\n",
              "      <td>s5</td>\n",
              "      <td>TV Show</td>\n",
              "      <td>Kota Factory</td>\n",
              "      <td>September 24, 2021</td>\n",
              "      <td>2021</td>\n",
              "      <td>TV-MA</td>\n",
              "      <td>2 Seasons</td>\n",
              "      <td>International TV Shows, Romantic TV Shows, TV ...</td>\n",
              "      <td>In a city of coaching centers known to train I...</td>\n",
              "    </tr>\n",
              "  </tbody>\n",
              "</table>\n",
              "</div>\n",
              "      <button class=\"colab-df-convert\" onclick=\"convertToInteractive('df-8febe709-639e-4647-bce1-db6859647611')\"\n",
              "              title=\"Convert this dataframe to an interactive table.\"\n",
              "              style=\"display:none;\">\n",
              "        \n",
              "  <svg xmlns=\"http://www.w3.org/2000/svg\" height=\"24px\"viewBox=\"0 0 24 24\"\n",
              "       width=\"24px\">\n",
              "    <path d=\"M0 0h24v24H0V0z\" fill=\"none\"/>\n",
              "    <path d=\"M18.56 5.44l.94 2.06.94-2.06 2.06-.94-2.06-.94-.94-2.06-.94 2.06-2.06.94zm-11 1L8.5 8.5l.94-2.06 2.06-.94-2.06-.94L8.5 2.5l-.94 2.06-2.06.94zm10 10l.94 2.06.94-2.06 2.06-.94-2.06-.94-.94-2.06-.94 2.06-2.06.94z\"/><path d=\"M17.41 7.96l-1.37-1.37c-.4-.4-.92-.59-1.43-.59-.52 0-1.04.2-1.43.59L10.3 9.45l-7.72 7.72c-.78.78-.78 2.05 0 2.83L4 21.41c.39.39.9.59 1.41.59.51 0 1.02-.2 1.41-.59l7.78-7.78 2.81-2.81c.8-.78.8-2.07 0-2.86zM5.41 20L4 18.59l7.72-7.72 1.47 1.35L5.41 20z\"/>\n",
              "  </svg>\n",
              "      </button>\n",
              "      \n",
              "  <style>\n",
              "    .colab-df-container {\n",
              "      display:flex;\n",
              "      flex-wrap:wrap;\n",
              "      gap: 12px;\n",
              "    }\n",
              "\n",
              "    .colab-df-convert {\n",
              "      background-color: #E8F0FE;\n",
              "      border: none;\n",
              "      border-radius: 50%;\n",
              "      cursor: pointer;\n",
              "      display: none;\n",
              "      fill: #1967D2;\n",
              "      height: 32px;\n",
              "      padding: 0 0 0 0;\n",
              "      width: 32px;\n",
              "    }\n",
              "\n",
              "    .colab-df-convert:hover {\n",
              "      background-color: #E2EBFA;\n",
              "      box-shadow: 0px 1px 2px rgba(60, 64, 67, 0.3), 0px 1px 3px 1px rgba(60, 64, 67, 0.15);\n",
              "      fill: #174EA6;\n",
              "    }\n",
              "\n",
              "    [theme=dark] .colab-df-convert {\n",
              "      background-color: #3B4455;\n",
              "      fill: #D2E3FC;\n",
              "    }\n",
              "\n",
              "    [theme=dark] .colab-df-convert:hover {\n",
              "      background-color: #434B5C;\n",
              "      box-shadow: 0px 1px 3px 1px rgba(0, 0, 0, 0.15);\n",
              "      filter: drop-shadow(0px 1px 2px rgba(0, 0, 0, 0.3));\n",
              "      fill: #FFFFFF;\n",
              "    }\n",
              "  </style>\n",
              "\n",
              "      <script>\n",
              "        const buttonEl =\n",
              "          document.querySelector('#df-8febe709-639e-4647-bce1-db6859647611 button.colab-df-convert');\n",
              "        buttonEl.style.display =\n",
              "          google.colab.kernel.accessAllowed ? 'block' : 'none';\n",
              "\n",
              "        async function convertToInteractive(key) {\n",
              "          const element = document.querySelector('#df-8febe709-639e-4647-bce1-db6859647611');\n",
              "          const dataTable =\n",
              "            await google.colab.kernel.invokeFunction('convertToInteractive',\n",
              "                                                     [key], {});\n",
              "          if (!dataTable) return;\n",
              "\n",
              "          const docLinkHtml = 'Like what you see? Visit the ' +\n",
              "            '<a target=\"_blank\" href=https://colab.research.google.com/notebooks/data_table.ipynb>data table notebook</a>'\n",
              "            + ' to learn more about interactive tables.';\n",
              "          element.innerHTML = '';\n",
              "          dataTable['output_type'] = 'display_data';\n",
              "          await google.colab.output.renderOutput(dataTable, element);\n",
              "          const docLink = document.createElement('div');\n",
              "          docLink.innerHTML = docLinkHtml;\n",
              "          element.appendChild(docLink);\n",
              "        }\n",
              "      </script>\n",
              "    </div>\n",
              "  </div>\n",
              "  "
            ]
          },
          "metadata": {},
          "execution_count": 9
        }
      ]
    },
    {
      "cell_type": "code",
      "source": [
        "#เช็ครูปแบบชุดข้อมูล Disney+\n",
        "df_dp.head(5)"
      ],
      "metadata": {
        "id": "H4PJLHY7eyhA",
        "colab": {
          "base_uri": "https://localhost:8080/",
          "height": 337
        },
        "outputId": "8b37c9c1-a8e8-4b52-fa9b-237b14474fe5"
      },
      "execution_count": null,
      "outputs": [
        {
          "output_type": "execute_result",
          "data": {
            "text/plain": [
              "  show_id     type                                             title  \\\n",
              "0      s1    Movie  Duck the Halls: A Mickey Mouse Christmas Special   \n",
              "1      s2    Movie                            Ernest Saves Christmas   \n",
              "2      s3    Movie                      Ice Age: A Mammoth Christmas   \n",
              "3      s4    Movie                        The Queen Family Singalong   \n",
              "4      s5  TV Show                             The Beatles: Get Back   \n",
              "\n",
              "          date_added  release_year rating  duration  \\\n",
              "0  November 26, 2021          2016   TV-G    23 min   \n",
              "1  November 26, 2021          1988     PG    91 min   \n",
              "2  November 26, 2021          2011   TV-G    23 min   \n",
              "3  November 26, 2021          2021  TV-PG    41 min   \n",
              "4  November 25, 2021          2021     NR  1 Season   \n",
              "\n",
              "                       listed_in  \\\n",
              "0              Animation, Family   \n",
              "1                         Comedy   \n",
              "2      Animation, Comedy, Family   \n",
              "3                        Musical   \n",
              "4  Docuseries, Historical, Music   \n",
              "\n",
              "                                         description  \n",
              "0   Join Mickey and the gang as they duck the halls!  \n",
              "1  Santa Claus passes his magic bag to a new St. ...  \n",
              "2          Sid the Sloth is on Santa's naughty list.  \n",
              "3               This is real life, not just fantasy!  \n",
              "4  A three-part documentary from Peter Jackson ca...  "
            ],
            "text/html": [
              "\n",
              "  <div id=\"df-cae5fdc8-bcfe-4e4d-9fbe-cbaef36589ae\">\n",
              "    <div class=\"colab-df-container\">\n",
              "      <div>\n",
              "<style scoped>\n",
              "    .dataframe tbody tr th:only-of-type {\n",
              "        vertical-align: middle;\n",
              "    }\n",
              "\n",
              "    .dataframe tbody tr th {\n",
              "        vertical-align: top;\n",
              "    }\n",
              "\n",
              "    .dataframe thead th {\n",
              "        text-align: right;\n",
              "    }\n",
              "</style>\n",
              "<table border=\"1\" class=\"dataframe\">\n",
              "  <thead>\n",
              "    <tr style=\"text-align: right;\">\n",
              "      <th></th>\n",
              "      <th>show_id</th>\n",
              "      <th>type</th>\n",
              "      <th>title</th>\n",
              "      <th>date_added</th>\n",
              "      <th>release_year</th>\n",
              "      <th>rating</th>\n",
              "      <th>duration</th>\n",
              "      <th>listed_in</th>\n",
              "      <th>description</th>\n",
              "    </tr>\n",
              "  </thead>\n",
              "  <tbody>\n",
              "    <tr>\n",
              "      <th>0</th>\n",
              "      <td>s1</td>\n",
              "      <td>Movie</td>\n",
              "      <td>Duck the Halls: A Mickey Mouse Christmas Special</td>\n",
              "      <td>November 26, 2021</td>\n",
              "      <td>2016</td>\n",
              "      <td>TV-G</td>\n",
              "      <td>23 min</td>\n",
              "      <td>Animation, Family</td>\n",
              "      <td>Join Mickey and the gang as they duck the halls!</td>\n",
              "    </tr>\n",
              "    <tr>\n",
              "      <th>1</th>\n",
              "      <td>s2</td>\n",
              "      <td>Movie</td>\n",
              "      <td>Ernest Saves Christmas</td>\n",
              "      <td>November 26, 2021</td>\n",
              "      <td>1988</td>\n",
              "      <td>PG</td>\n",
              "      <td>91 min</td>\n",
              "      <td>Comedy</td>\n",
              "      <td>Santa Claus passes his magic bag to a new St. ...</td>\n",
              "    </tr>\n",
              "    <tr>\n",
              "      <th>2</th>\n",
              "      <td>s3</td>\n",
              "      <td>Movie</td>\n",
              "      <td>Ice Age: A Mammoth Christmas</td>\n",
              "      <td>November 26, 2021</td>\n",
              "      <td>2011</td>\n",
              "      <td>TV-G</td>\n",
              "      <td>23 min</td>\n",
              "      <td>Animation, Comedy, Family</td>\n",
              "      <td>Sid the Sloth is on Santa's naughty list.</td>\n",
              "    </tr>\n",
              "    <tr>\n",
              "      <th>3</th>\n",
              "      <td>s4</td>\n",
              "      <td>Movie</td>\n",
              "      <td>The Queen Family Singalong</td>\n",
              "      <td>November 26, 2021</td>\n",
              "      <td>2021</td>\n",
              "      <td>TV-PG</td>\n",
              "      <td>41 min</td>\n",
              "      <td>Musical</td>\n",
              "      <td>This is real life, not just fantasy!</td>\n",
              "    </tr>\n",
              "    <tr>\n",
              "      <th>4</th>\n",
              "      <td>s5</td>\n",
              "      <td>TV Show</td>\n",
              "      <td>The Beatles: Get Back</td>\n",
              "      <td>November 25, 2021</td>\n",
              "      <td>2021</td>\n",
              "      <td>NR</td>\n",
              "      <td>1 Season</td>\n",
              "      <td>Docuseries, Historical, Music</td>\n",
              "      <td>A three-part documentary from Peter Jackson ca...</td>\n",
              "    </tr>\n",
              "  </tbody>\n",
              "</table>\n",
              "</div>\n",
              "      <button class=\"colab-df-convert\" onclick=\"convertToInteractive('df-cae5fdc8-bcfe-4e4d-9fbe-cbaef36589ae')\"\n",
              "              title=\"Convert this dataframe to an interactive table.\"\n",
              "              style=\"display:none;\">\n",
              "        \n",
              "  <svg xmlns=\"http://www.w3.org/2000/svg\" height=\"24px\"viewBox=\"0 0 24 24\"\n",
              "       width=\"24px\">\n",
              "    <path d=\"M0 0h24v24H0V0z\" fill=\"none\"/>\n",
              "    <path d=\"M18.56 5.44l.94 2.06.94-2.06 2.06-.94-2.06-.94-.94-2.06-.94 2.06-2.06.94zm-11 1L8.5 8.5l.94-2.06 2.06-.94-2.06-.94L8.5 2.5l-.94 2.06-2.06.94zm10 10l.94 2.06.94-2.06 2.06-.94-2.06-.94-.94-2.06-.94 2.06-2.06.94z\"/><path d=\"M17.41 7.96l-1.37-1.37c-.4-.4-.92-.59-1.43-.59-.52 0-1.04.2-1.43.59L10.3 9.45l-7.72 7.72c-.78.78-.78 2.05 0 2.83L4 21.41c.39.39.9.59 1.41.59.51 0 1.02-.2 1.41-.59l7.78-7.78 2.81-2.81c.8-.78.8-2.07 0-2.86zM5.41 20L4 18.59l7.72-7.72 1.47 1.35L5.41 20z\"/>\n",
              "  </svg>\n",
              "      </button>\n",
              "      \n",
              "  <style>\n",
              "    .colab-df-container {\n",
              "      display:flex;\n",
              "      flex-wrap:wrap;\n",
              "      gap: 12px;\n",
              "    }\n",
              "\n",
              "    .colab-df-convert {\n",
              "      background-color: #E8F0FE;\n",
              "      border: none;\n",
              "      border-radius: 50%;\n",
              "      cursor: pointer;\n",
              "      display: none;\n",
              "      fill: #1967D2;\n",
              "      height: 32px;\n",
              "      padding: 0 0 0 0;\n",
              "      width: 32px;\n",
              "    }\n",
              "\n",
              "    .colab-df-convert:hover {\n",
              "      background-color: #E2EBFA;\n",
              "      box-shadow: 0px 1px 2px rgba(60, 64, 67, 0.3), 0px 1px 3px 1px rgba(60, 64, 67, 0.15);\n",
              "      fill: #174EA6;\n",
              "    }\n",
              "\n",
              "    [theme=dark] .colab-df-convert {\n",
              "      background-color: #3B4455;\n",
              "      fill: #D2E3FC;\n",
              "    }\n",
              "\n",
              "    [theme=dark] .colab-df-convert:hover {\n",
              "      background-color: #434B5C;\n",
              "      box-shadow: 0px 1px 3px 1px rgba(0, 0, 0, 0.15);\n",
              "      filter: drop-shadow(0px 1px 2px rgba(0, 0, 0, 0.3));\n",
              "      fill: #FFFFFF;\n",
              "    }\n",
              "  </style>\n",
              "\n",
              "      <script>\n",
              "        const buttonEl =\n",
              "          document.querySelector('#df-cae5fdc8-bcfe-4e4d-9fbe-cbaef36589ae button.colab-df-convert');\n",
              "        buttonEl.style.display =\n",
              "          google.colab.kernel.accessAllowed ? 'block' : 'none';\n",
              "\n",
              "        async function convertToInteractive(key) {\n",
              "          const element = document.querySelector('#df-cae5fdc8-bcfe-4e4d-9fbe-cbaef36589ae');\n",
              "          const dataTable =\n",
              "            await google.colab.kernel.invokeFunction('convertToInteractive',\n",
              "                                                     [key], {});\n",
              "          if (!dataTable) return;\n",
              "\n",
              "          const docLinkHtml = 'Like what you see? Visit the ' +\n",
              "            '<a target=\"_blank\" href=https://colab.research.google.com/notebooks/data_table.ipynb>data table notebook</a>'\n",
              "            + ' to learn more about interactive tables.';\n",
              "          element.innerHTML = '';\n",
              "          dataTable['output_type'] = 'display_data';\n",
              "          await google.colab.output.renderOutput(dataTable, element);\n",
              "          const docLink = document.createElement('div');\n",
              "          docLink.innerHTML = docLinkHtml;\n",
              "          element.appendChild(docLink);\n",
              "        }\n",
              "      </script>\n",
              "    </div>\n",
              "  </div>\n",
              "  "
            ]
          },
          "metadata": {},
          "execution_count": 10
        }
      ]
    },
    {
      "cell_type": "markdown",
      "source": [
        "## **ประเภทของหนัง ระหว่าง Netflix และ Disney+**"
      ],
      "metadata": {
        "id": "QkaVLo94KTXk"
      }
    },
    {
      "cell_type": "code",
      "source": [
        "df_nf['listed_in'].value_counts() #นับจำนวนประเภทของหนังจาก Netflix โดยใช้ column 'list_in'"
      ],
      "metadata": {
        "colab": {
          "base_uri": "https://localhost:8080/"
        },
        "id": "dUe1APYUDlk-",
        "outputId": "d47c3490-f51e-45b2-9d66-46be7bd8a878"
      },
      "execution_count": null,
      "outputs": [
        {
          "output_type": "execute_result",
          "data": {
            "text/plain": [
              "Dramas, International Movies                          362\n",
              "Documentaries                                         359\n",
              "Stand-Up Comedy                                       334\n",
              "Comedies, Dramas, International Movies                274\n",
              "Dramas, Independent Movies, International Movies      252\n",
              "                                                     ... \n",
              "Kids' TV, TV Action & Adventure, TV Dramas              1\n",
              "TV Comedies, TV Dramas, TV Horror                       1\n",
              "Children & Family Movies, Comedies, LGBTQ Movies        1\n",
              "Kids' TV, Spanish-Language TV Shows, Teen TV Shows      1\n",
              "Cult Movies, Dramas, Thrillers                          1\n",
              "Name: listed_in, Length: 514, dtype: int64"
            ]
          },
          "metadata": {},
          "execution_count": 11
        }
      ]
    },
    {
      "cell_type": "code",
      "source": [
        "df_dp['listed_in'].value_counts() #นับจำนวนประเภทของหนังจาก Disney+ โดยใช้ column 'list_in'"
      ],
      "metadata": {
        "colab": {
          "base_uri": "https://localhost:8080/"
        },
        "id": "vxyUcr8zC9fl",
        "outputId": "1026ca28-48db-401c-b764-8061442bcf36"
      },
      "execution_count": null,
      "outputs": [
        {
          "output_type": "execute_result",
          "data": {
            "text/plain": [
              "Animation, Comedy, Family                        124\n",
              "Action-Adventure, Animation, Comedy               77\n",
              "Action-Adventure, Animation, Kids                 45\n",
              "Action-Adventure, Animation, Family               40\n",
              "Animals & Nature, Documentary, Family             40\n",
              "                                                ... \n",
              "Animals & Nature, Family, Reality                  1\n",
              "Dance, Music, Musical                              1\n",
              "Comedy, Family, Lifestyle                          1\n",
              "Buddy, Docuseries                                  1\n",
              "Action-Adventure, Animals & Nature, Animation      1\n",
              "Name: listed_in, Length: 329, dtype: int64"
            ]
          },
          "metadata": {},
          "execution_count": 12
        }
      ]
    },
    {
      "cell_type": "markdown",
      "source": [
        "ทำการหาจำนวนของประเภทหนังที่มีคาดว่าจำนวนผู้ชมมากที่สุดของทั้งสองแอพพลิเคชั่น"
      ],
      "metadata": {
        "id": "VRtpZFE6DBkM"
      }
    },
    {
      "cell_type": "code",
      "source": [
        "#ใช้ library requests ในการดึง raw data จากไฟล์ csv\n",
        "snapshot_nf = requests.get(netflix_url)\n",
        "raw_nf = snapshot_nf.text\n",
        "\n",
        "#หา keyword ที่ต้องการโดยใช้ re.findall\n",
        "drama=re.findall('Drama\\S',raw_nf)\n",
        "comedy=re.findall('Comedy\\S',raw_nf)\n",
        "triller=re.findall('Thrillers\\S',raw_nf)\n",
        "musical=re.findall('Musical\\S',raw_nf)\n",
        "adventure=re.findall('Adventure\\S',raw_nf)\n",
        "animation=re.findall('Animation\\S',raw_nf)\n",
        "family=re.findall('Family\\S',raw_nf)\n",
        "kid=re.findall('Kid\\S',raw_nf)\n",
        "Documentaries=re.findall('Documentaries\\S',raw_nf)\n",
        "\n",
        "#สร้างตัว count ไว้นับข้อมูล\n",
        "count_drama=0\n",
        "count_comedy=0\n",
        "count_triller=0\n",
        "count_musical=0\n",
        "count_adventure=0\n",
        "count_animation=0\n",
        "count_family=0\n",
        "count_kid=0\n",
        "count_Documentaries=0\n",
        "\n",
        "#นับจำนวนประเภทของหนัง\n",
        "for x in drama:\n",
        "  count_drama+=1\n",
        "for x in comedy:\n",
        "  count_comedy+=1\n",
        "for x in triller:\n",
        "  count_triller+=1\n",
        "for x in musical:\n",
        "  count_musical+=1\n",
        "for x in adventure:\n",
        "  count_adventure+=1\n",
        "for x in animation:\n",
        "  count_animation+=1\n",
        "for x in family:\n",
        "  count_family+=1\n",
        "for x in kid:\n",
        "  count_kid+=1\n",
        "for x in Documentaries:\n",
        "  count_Documentaries+=1\n"
      ],
      "metadata": {
        "id": "ueHzk_Ufv9dg"
      },
      "execution_count": null,
      "outputs": []
    },
    {
      "cell_type": "code",
      "source": [
        "#นำข้อมูลที่นับได้มาเก็บไว้\n",
        "type_nf=[count_drama,count_comedy,count_triller,count_musical,count_adventure,count_animation,count_family,count_kid,count_Documentaries]\n",
        "type_nf"
      ],
      "metadata": {
        "colab": {
          "base_uri": "https://localhost:8080/"
        },
        "id": "AqTa66Eo4wRM",
        "outputId": "96b2cef4-4683-49ce-c789-c941c31cfbc3"
      },
      "execution_count": null,
      "outputs": [
        {
          "output_type": "execute_result",
          "data": {
            "text/plain": [
              "[3194, 349, 634, 377, 1065, 4, 22, 519, 869]"
            ]
          },
          "metadata": {},
          "execution_count": 14
        }
      ]
    },
    {
      "cell_type": "code",
      "source": [
        "#ใช้ library requests ในการดึง raw data จากไฟล์ csv\n",
        "snapshot_dp = requests.get(disney_url)\n",
        "raw_dp = snapshot_dp.text\n",
        "\n",
        "#หา keyword ที่ต้องการโดยใช้ re.findall\n",
        "drama=re.findall('Drama\\S',raw_dp)\n",
        "comedy=re.findall('Comedy\\S',raw_dp)\n",
        "triller=re.findall('Thrillers\\S',raw_dp)\n",
        "musical=re.findall('Musical\\S',raw_dp)\n",
        "adventure=re.findall('Adventure\\S',raw_dp)\n",
        "animation=re.findall('Animation\\S',raw_dp)\n",
        "family=re.findall('Family\\S',raw_dp)\n",
        "kid=re.findall('Kid\\S',raw_dp)\n",
        "Documentaries=re.findall('Documentaries\\S',raw_dp)\n",
        "\n",
        "#สร้างตัว count ไว้นับข้อมูล\n",
        "count_drama=0\n",
        "count_comedy=0\n",
        "count_triller=0\n",
        "count_musical=0\n",
        "count_adventure=0\n",
        "count_animation=0\n",
        "count_family=0\n",
        "count_kid=0\n",
        "count_Documentaries=0\n",
        "\n",
        "#นับจำนวนประเภทของหนัง\n",
        "for x in drama:\n",
        "  count_drama+=1\n",
        "for x in comedy:\n",
        "  count_comedy+=1\n",
        "for x in triller:\n",
        "  count_triller+=1\n",
        "for x in musical:\n",
        "  count_musical+=1\n",
        "for x in adventure:\n",
        "  count_adventure+=1\n",
        "for x in animation:\n",
        "  count_animation+=1\n",
        "for x in family:\n",
        "  count_family+=1\n",
        "for x in kid:\n",
        "  count_kid+=1\n",
        "for x in Documentaries:\n",
        "  count_Documentaries+=1"
      ],
      "metadata": {
        "id": "X5ckyDML7O4_"
      },
      "execution_count": null,
      "outputs": []
    },
    {
      "cell_type": "code",
      "source": [
        "#นำข้อมูลที่นับได้มาเก็บไว้\n",
        "type_dp=[count_drama,count_comedy,count_triller,count_musical,count_adventure,count_animation,count_family,count_kid,count_Documentaries]\n",
        "type_dp"
      ],
      "metadata": {
        "colab": {
          "base_uri": "https://localhost:8080/"
        },
        "id": "Mw8bth7d7YYG",
        "outputId": "823f2d32-ba09-4ecf-fa11-60688401a53a"
      },
      "execution_count": null,
      "outputs": [
        {
          "output_type": "execute_result",
          "data": {
            "text/plain": [
              "[135, 528, 0, 62, 478, 544, 636, 153, 0]"
            ]
          },
          "metadata": {},
          "execution_count": 16
        }
      ]
    },
    {
      "cell_type": "code",
      "source": [],
      "metadata": {
        "id": "v8AqjN7lJZjN"
      },
      "execution_count": null,
      "outputs": []
    },
    {
      "cell_type": "markdown",
      "source": [
        "## **จำนวน Movie และ TV Show ระหว่าง Netflix และ Disney+**"
      ],
      "metadata": {
        "id": "G4WNqRwjLE25"
      }
    },
    {
      "cell_type": "code",
      "source": [
        "#จำนวน Movie และ TV Show ของ Netflix\n",
        "sns.countplot(x='type',data = df_nf)\n",
        "df_nf['type'].value_counts()"
      ],
      "metadata": {
        "colab": {
          "base_uri": "https://localhost:8080/",
          "height": 331
        },
        "id": "-D8dRCVdEPJ1",
        "outputId": "f0edc5f1-51dc-4ca3-ee8a-d76ae90c2501"
      },
      "execution_count": null,
      "outputs": [
        {
          "output_type": "execute_result",
          "data": {
            "text/plain": [
              "Movie      6131\n",
              "TV Show    2676\n",
              "Name: type, dtype: int64"
            ]
          },
          "metadata": {},
          "execution_count": 18
        },
        {
          "output_type": "display_data",
          "data": {
            "text/plain": [
              "<Figure size 432x288 with 1 Axes>"
            ],
            "image/png": "[encoded data removed]"
          },
          "metadata": {
            "needs_background": "light"
          }
        }
      ]
    },
    {
      "cell_type": "code",
      "source": [
        "#จำนวน Movie และ TV Show ของ Disney+\n",
        "sns.countplot(x='type',data = df_dp)\n",
        "df_dp['type'].value_counts()"
      ],
      "metadata": {
        "colab": {
          "base_uri": "https://localhost:8080/",
          "height": 331
        },
        "id": "NuRJXf99EoJM",
        "outputId": "df335979-53e4-4b22-a762-b726c163a981"
      },
      "execution_count": null,
      "outputs": [
        {
          "output_type": "execute_result",
          "data": {
            "text/plain": [
              "Movie      1052\n",
              "TV Show     398\n",
              "Name: type, dtype: int64"
            ]
          },
          "metadata": {},
          "execution_count": 19
        },
        {
          "output_type": "display_data",
          "data": {
            "text/plain": [
              "<Figure size 432x288 with 1 Axes>"
            ],
            "image/png": "[encoded data removed]"
          },
          "metadata": {
            "needs_background": "light"
          }
        }
      ]
    },
    {
      "cell_type": "markdown",
      "source": [
        "**จากการวิเคราะห์**\n",
        "\n",
        "**Netflix**\n",
        "\n",
        "\n",
        "\n",
        "> Movie: 6131\n",
        "\n",
        "\n",
        "> TV Show: 2676\n",
        "\n",
        "\n",
        "\n",
        "**Disney+**\n",
        "\n",
        "\n",
        "> Movie: 1052\n",
        "\n",
        "> TV Show: 398\n",
        "\n",
        "\n",
        "---\n",
        "\n",
        "พบว่า **Netflix** มีจำนวน **Movie** มากกว่า **Disney+** อยู่ **5,079** เรื่อง\n",
        "\n",
        "และ **Netflix** มีจำนวน **TV Show** มากกว่า **Disney+** อยู่ **2,278** เรื่อง\n",
        "\n",
        "\n",
        "\n",
        "\n",
        "\n",
        "\n",
        "\n",
        "\n"
      ],
      "metadata": {
        "id": "Wf84QDq1LLZY"
      }
    },
    {
      "cell_type": "markdown",
      "source": [
        "## **ประเภทและจำนวนเรทติ้ง ระหว่าง Netflix และ Disney+**\n",
        "\n"
      ],
      "metadata": {
        "id": "rP9hw02xJPgf"
      }
    },
    {
      "cell_type": "code",
      "source": [
        "a,ax=plt.subplots(figsize=(15,5)) #ปรับขนาดของกราฟ\n",
        "sns.countplot(data=df_nf, x=\"rating\") #ทำการนับจำนวน rating\n",
        "plt.xticks(rotation=45) #หมุนตัวหนังสือ 45 องศา\n",
        "plt.show()\n",
        "df_nf['rating'].value_counts() #นับจำนวน rating ใน dataframe"
      ],
      "metadata": {
        "colab": {
          "base_uri": "https://localhost:8080/",
          "height": 673
        },
        "id": "kk5zUQj7HtNx",
        "outputId": "836391e9-ca17-4716-b930-295977bc8275"
      },
      "execution_count": null,
      "outputs": [
        {
          "output_type": "display_data",
          "data": {
            "text/plain": [
              "<Figure size 1080x360 with 1 Axes>"
            ],
            "image/png": "[encoded data removed]"
          },
          "metadata": {
            "needs_background": "light"
          }
        },
        {
          "output_type": "execute_result",
          "data": {
            "text/plain": [
              "TV-MA       3207\n",
              "TV-14       2160\n",
              "TV-PG        863\n",
              "R            799\n",
              "PG-13        490\n",
              "TV-Y7        334\n",
              "TV-Y         307\n",
              "PG           287\n",
              "TV-G         220\n",
              "NR            84\n",
              "G             41\n",
              "TV-Y7-FV       6\n",
              "NC-17          3\n",
              "UR             3\n",
              "74 min         1\n",
              "84 min         1\n",
              "66 min         1\n",
              "Name: rating, dtype: int64"
            ]
          },
          "metadata": {},
          "execution_count": 20
        }
      ]
    },
    {
      "cell_type": "code",
      "source": [
        "a,ax=plt.subplots(figsize=(15,5)) #ปรับขนาดของกราฟ\n",
        "sns.countplot(data=df_dp, x=\"rating\") #ทำการนับจำนวน rating\n",
        "plt.xticks(rotation=45) #หมุนตัวหนังสือ 45 องศา\n",
        "plt.show()\n",
        "df_dp['rating'].value_counts() #นับจำนวน rating ใน dataframe"
      ],
      "metadata": {
        "colab": {
          "base_uri": "https://localhost:8080/",
          "height": 552
        },
        "id": "21m_158qIlu0",
        "outputId": "32319ee0-41a7-4be2-af58-6d30dc0b47c5"
      },
      "execution_count": null,
      "outputs": [
        {
          "output_type": "display_data",
          "data": {
            "text/plain": [
              "<Figure size 1080x360 with 1 Axes>"
            ],
            "image/png": "[encoded data removed]"
          },
          "metadata": {
            "needs_background": "light"
          }
        },
        {
          "output_type": "execute_result",
          "data": {
            "text/plain": [
              "TV-G        318\n",
              "TV-PG       301\n",
              "G           253\n",
              "PG          236\n",
              "TV-Y7       131\n",
              "TV-14        79\n",
              "PG-13        66\n",
              "TV-Y         50\n",
              "TV-Y7-FV     13\n",
              "NR            3\n",
              "Name: rating, dtype: int64"
            ]
          },
          "metadata": {},
          "execution_count": 21
        }
      ]
    },
    {
      "cell_type": "markdown",
      "source": [
        "**จากการวิเคราะห์**\n",
        "\n",
        "**Netflix**\n",
        "\n",
        "\n",
        "> มีจำนวนประเภท **rating** ทั้งหมด 14 ประเภท\n",
        "\n",
        "\n",
        "\n",
        "**Disney+**\n",
        "\n",
        "\n",
        "> มีจำนวนประเภท **rating** ทั้งหมด 9 ประเภท\n",
        "\n",
        "\n",
        "\n",
        "---\n",
        "\n",
        "พบว่า **Netflix** มีประเภทของ rating ทั้งหมดที่ **Disney+** มี\n",
        "\n",
        "และมีประเภท **rating** ที่ **Disney+** ไม่มีดังนี้\n",
        "\n",
        "1. **TV-MA** หรือ **Mature Audience Only** เฉพาะผู้ชมที่เป็นผู้ใหญ่เท่านั้น\n",
        "\n",
        "2. **R** หรือ **Restricted** เด็กและเยาวชนอายุต่ำกว่า 17 ปีจะเข้าชมได้ ต่อเมื่อมีผู้ปกครองหรือผู้ใหญ่ไปด้วยเท่านั้น\n",
        "\n",
        "3. **NR** หรือ **Not Rated** ยังไม่ได้กำหนดระดับ\n",
        "\n",
        "4. **NC-17** หรือ **No One 17 and Under Admitted** ไม่อนุญาตให้เด็กและเยาวชนอายุต่ำกว่า 17 ปี เข้าชมโดยเด็ดขาด\n",
        "\n",
        "5. **UR** หรือ **Unrated** ยังไม่ถูกจัดเรท\n",
        "\n",
        "จะเห็นได้ว่า **Disney+** จะไม่มีภาพยนต์ที่ไม่เหมาะกับเด็กหรือผู้ชมที่อายุต่ำกว่า 18 ปี"
      ],
      "metadata": {
        "id": "sTI36kBYJs5B"
      }
    },
    {
      "cell_type": "markdown",
      "source": [
        "## **วันที่มีการเพิ่มหนังเข้ามาระหว่าง Netflix และ Disney+**"
      ],
      "metadata": {
        "id": "1sbod2L8T_Bd"
      }
    },
    {
      "cell_type": "code",
      "source": [
        "#เช็ครูปแบบของข้อมูล date_added ของ Dataframe Netflix\n",
        "df_nf[\"date_added\"].head(3)"
      ],
      "metadata": {
        "colab": {
          "base_uri": "https://localhost:8080/"
        },
        "id": "gDuTJHGJVRic",
        "outputId": "da5e2145-7f33-478a-cd50-fdd5aa263e72"
      },
      "execution_count": null,
      "outputs": [
        {
          "output_type": "execute_result",
          "data": {
            "text/plain": [
              "0    September 25, 2021\n",
              "1    September 24, 2021\n",
              "2    September 24, 2021\n",
              "Name: date_added, dtype: object"
            ]
          },
          "metadata": {},
          "execution_count": 22
        }
      ]
    },
    {
      "cell_type": "code",
      "source": [
        "#Netflix\n",
        "date_nf = df_nf[[\"date_added\"]].dropna() #.dropna เพื่อ Missing Value\n",
        "\n",
        "#ทำการแยกส่วนข้อมูลของเดือนและปีออกจากกัน\n",
        "date_nf['year'] = date_nf[\"date_added\"].apply(lambda i: i.split(', ')[1])\n",
        "date_nf['month'] = date_nf[\"date_added\"].apply(lambda i: i.lstrip().split(' ')[0])\n",
        "\n",
        "#พล็อตกราฟ Years\n",
        "a,ax=plt.subplots(figsize=(10,5)) #ปรับขนาดของกราฟ\n",
        "plt.xticks(rotation=90) #หมุนตัวหนังสือ 90 องศา ให้เป็นแนวตั้ง\n",
        "sns.countplot(x=date_nf['year'])\n",
        "plt.show()\n",
        "\n",
        "#นับจำนวนหนังที่เพิ่มเข้ามาในแต่ละปี\n",
        "print(f'\\n-----------Years-----------')\n",
        "print(date_nf['year'].value_counts())\n",
        "print('\\n')\n",
        "\n",
        "#พล็อตกราฟ Months\n",
        "a,ax=plt.subplots(figsize=(10,5)) #ปรับขนาดของกราฟ\n",
        "plt.xticks(rotation=90) #หมุนตัวหนังสือ 90 องศา ให้เป็นแนวตั้ง\n",
        "sns.countplot(x=date_nf[\"month\"])\n",
        "plt.show()\n",
        "\n",
        "#นับจำนวนหนังที่เพิ่มเข้ามาในแต่ละเดือน\n",
        "print(f'\\n-----------Months-----------')\n",
        "print(date_nf['month'].value_counts())"
      ],
      "metadata": {
        "colab": {
          "base_uri": "https://localhost:8080/",
          "height": 1000
        },
        "id": "Kf7qx5bbUJ3l",
        "outputId": "29903256-90a8-47a3-9ca0-b9881d990b3d"
      },
      "execution_count": null,
      "outputs": [
        {
          "output_type": "display_data",
          "data": {
            "text/plain": [
              "<Figure size 720x360 with 1 Axes>"
            ],
            "image/png": "[encoded data removed]"
          },
          "metadata": {
            "needs_background": "light"
          }
        },
        {
          "output_type": "stream",
          "name": "stdout",
          "text": [
            "\n",
            "-----------Years-----------\n",
            "2019    2017\n",
            "2020    1879\n",
            "2018    1652\n",
            "2021    1498\n",
            "2017    1193\n",
            "2016     430\n",
            "2015      82\n",
            "2014      24\n",
            "2011      13\n",
            "2013      11\n",
            "2012       3\n",
            "2009       2\n",
            "2008       2\n",
            "2010       1\n",
            "Name: year, dtype: int64\n",
            "\n",
            "\n"
          ]
        },
        {
          "output_type": "display_data",
          "data": {
            "text/plain": [
              "<Figure size 720x360 with 1 Axes>"
            ],
            "image/png": "[encoded data removed]"
          },
          "metadata": {
            "needs_background": "light"
          }
        },
        {
          "output_type": "stream",
          "name": "stdout",
          "text": [
            "\n",
            "-----------Months-----------\n",
            "July         827\n",
            "December     813\n",
            "September    772\n",
            "April        765\n",
            "October      761\n",
            "August       755\n",
            "March        743\n",
            "January      738\n",
            "June         729\n",
            "November     705\n",
            "May          634\n",
            "February     565\n",
            "Name: month, dtype: int64\n"
          ]
        }
      ]
    },
    {
      "cell_type": "code",
      "source": [
        "#เช็ครูปแบบของข้อมูล date_added ของ Dataframe Disney+\n",
        "df_dp[\"date_added\"].head(3)"
      ],
      "metadata": {
        "colab": {
          "base_uri": "https://localhost:8080/"
        },
        "id": "Jtg511BGYorc",
        "outputId": "8c38f46f-18f3-4560-8053-b03601976242"
      },
      "execution_count": null,
      "outputs": [
        {
          "output_type": "execute_result",
          "data": {
            "text/plain": [
              "0    November 26, 2021\n",
              "1    November 26, 2021\n",
              "2    November 26, 2021\n",
              "Name: date_added, dtype: object"
            ]
          },
          "metadata": {},
          "execution_count": 24
        }
      ]
    },
    {
      "cell_type": "code",
      "source": [
        "#Disney+\n",
        "date_dp = df_dp[[\"date_added\"]].dropna() #.dropna เพื่อ Missing Value\n",
        "\n",
        "#ทำการแยกส่วนข้อมูลของเดือนและปีออกจากกัน\n",
        "date_dp['year'] = date_dp[\"date_added\"].apply(lambda i: i.split(', ')[1])\n",
        "date_dp['month'] = date_dp[\"date_added\"].apply(lambda i: i.lstrip().split(' ')[0])\n",
        "\n",
        "#พล็อตกราฟ Years\n",
        "a,ax=plt.subplots(figsize=(10,5)) #ปรับขนาดของกราฟ\n",
        "plt.xticks(rotation=90) #หมุนตัวหนังสือ 90 องศา ให้เป็นแนวตั้ง\n",
        "sns.countplot(x=date_dp['year'])\n",
        "plt.show()\n",
        "\n",
        "#นับจำนวนหนังที่เพิ่มเข้ามาในแต่ละปี\n",
        "print(f'\\n-----------Years-----------')\n",
        "print(date_dp['year'].value_counts())\n",
        "print('\\n')\n",
        "\n",
        "#พล็อตกราฟ Months\n",
        "a,ax=plt.subplots(figsize=(10,5)) #ปรับขนาดของกราฟ\n",
        "plt.xticks(rotation=90) #หมุนตัวหนังสือ 90 องศา ให้เป็นแนวตั้ง\n",
        "sns.countplot(x=date_dp[\"month\"])\n",
        "plt.show()\n",
        "\n",
        "#นับจำนวนหนังที่เพิ่มเข้ามาในแต่ละเดือน\n",
        "print(f'\\n-----------Months-----------')\n",
        "print(date_dp['month'].value_counts())"
      ],
      "metadata": {
        "colab": {
          "base_uri": "https://localhost:8080/",
          "height": 1000
        },
        "id": "xZhaO8HuXRnG",
        "outputId": "5c69311d-6007-4a35-d2ee-0e579fc5bfe3"
      },
      "execution_count": null,
      "outputs": [
        {
          "output_type": "display_data",
          "data": {
            "text/plain": [
              "<Figure size 720x360 with 1 Axes>"
            ],
            "image/png": "[encoded data removed]"
          },
          "metadata": {
            "needs_background": "light"
          }
        },
        {
          "output_type": "stream",
          "name": "stdout",
          "text": [
            "\n",
            "-----------Years-----------\n",
            "2019    768\n",
            "2020    352\n",
            "2021    330\n",
            "Name: year, dtype: int64\n",
            "\n",
            "\n"
          ]
        },
        {
          "output_type": "display_data",
          "data": {
            "text/plain": [
              "<Figure size 720x360 with 1 Axes>"
            ],
            "image/png": "[encoded data removed]"
          },
          "metadata": {
            "needs_background": "light"
          }
        },
        {
          "output_type": "stream",
          "name": "stdout",
          "text": [
            "\n",
            "-----------Months-----------\n",
            "November     809\n",
            "April         86\n",
            "July          85\n",
            "October       66\n",
            "May           62\n",
            "January       61\n",
            "September     59\n",
            "June          52\n",
            "December      52\n",
            "August        50\n",
            "February      44\n",
            "March         24\n",
            "Name: month, dtype: int64\n"
          ]
        }
      ]
    },
    {
      "cell_type": "code",
      "source": [
        "nf_specific_column = ['title', 'date_added', 'release_year']\n",
        "df_nf[nf_specific_column]"
      ],
      "metadata": {
        "colab": {
          "base_uri": "https://localhost:8080/",
          "height": 424
        },
        "id": "VHz8gwmz5Ddi",
        "outputId": "f660c1c7-17c4-4c00-e5de-3a1817451e4b"
      },
      "execution_count": null,
      "outputs": [
        {
          "output_type": "execute_result",
          "data": {
            "text/plain": [
              "                      title          date_added  release_year\n",
              "0      Dick Johnson Is Dead  September 25, 2021          2020\n",
              "1             Blood & Water  September 24, 2021          2021\n",
              "2                 Ganglands  September 24, 2021          2021\n",
              "3     Jailbirds New Orleans  September 24, 2021          2021\n",
              "4              Kota Factory  September 24, 2021          2021\n",
              "...                     ...                 ...           ...\n",
              "8802                 Zodiac   November 20, 2019          2007\n",
              "8803            Zombie Dumb        July 1, 2019          2018\n",
              "8804             Zombieland    November 1, 2019          2009\n",
              "8805                   Zoom    January 11, 2020          2006\n",
              "8806                 Zubaan       March 2, 2019          2015\n",
              "\n",
              "[8807 rows x 3 columns]"
            ],
            "text/html": [
              "\n",
              "  <div id=\"df-6ef2fee7-15aa-4768-aa3c-2ef2a1a0fbe9\">\n",
              "    <div class=\"colab-df-container\">\n",
              "      <div>\n",
              "<style scoped>\n",
              "    .dataframe tbody tr th:only-of-type {\n",
              "        vertical-align: middle;\n",
              "    }\n",
              "\n",
              "    .dataframe tbody tr th {\n",
              "        vertical-align: top;\n",
              "    }\n",
              "\n",
              "    .dataframe thead th {\n",
              "        text-align: right;\n",
              "    }\n",
              "</style>\n",
              "<table border=\"1\" class=\"dataframe\">\n",
              "  <thead>\n",
              "    <tr style=\"text-align: right;\">\n",
              "      <th></th>\n",
              "      <th>title</th>\n",
              "      <th>date_added</th>\n",
              "      <th>release_year</th>\n",
              "    </tr>\n",
              "  </thead>\n",
              "  <tbody>\n",
              "    <tr>\n",
              "      <th>0</th>\n",
              "      <td>Dick Johnson Is Dead</td>\n",
              "      <td>September 25, 2021</td>\n",
              "      <td>2020</td>\n",
              "    </tr>\n",
              "    <tr>\n",
              "      <th>1</th>\n",
              "      <td>Blood &amp; Water</td>\n",
              "      <td>September 24, 2021</td>\n",
              "      <td>2021</td>\n",
              "    </tr>\n",
              "    <tr>\n",
              "      <th>2</th>\n",
              "      <td>Ganglands</td>\n",
              "      <td>September 24, 2021</td>\n",
              "      <td>2021</td>\n",
              "    </tr>\n",
              "    <tr>\n",
              "      <th>3</th>\n",
              "      <td>Jailbirds New Orleans</td>\n",
              "      <td>September 24, 2021</td>\n",
              "      <td>2021</td>\n",
              "    </tr>\n",
              "    <tr>\n",
              "      <th>4</th>\n",
              "      <td>Kota Factory</td>\n",
              "      <td>September 24, 2021</td>\n",
              "      <td>2021</td>\n",
              "    </tr>\n",
              "    <tr>\n",
              "      <th>...</th>\n",
              "      <td>...</td>\n",
              "      <td>...</td>\n",
              "      <td>...</td>\n",
              "    </tr>\n",
              "    <tr>\n",
              "      <th>8802</th>\n",
              "      <td>Zodiac</td>\n",
              "      <td>November 20, 2019</td>\n",
              "      <td>2007</td>\n",
              "    </tr>\n",
              "    <tr>\n",
              "      <th>8803</th>\n",
              "      <td>Zombie Dumb</td>\n",
              "      <td>July 1, 2019</td>\n",
              "      <td>2018</td>\n",
              "    </tr>\n",
              "    <tr>\n",
              "      <th>8804</th>\n",
              "      <td>Zombieland</td>\n",
              "      <td>November 1, 2019</td>\n",
              "      <td>2009</td>\n",
              "    </tr>\n",
              "    <tr>\n",
              "      <th>8805</th>\n",
              "      <td>Zoom</td>\n",
              "      <td>January 11, 2020</td>\n",
              "      <td>2006</td>\n",
              "    </tr>\n",
              "    <tr>\n",
              "      <th>8806</th>\n",
              "      <td>Zubaan</td>\n",
              "      <td>March 2, 2019</td>\n",
              "      <td>2015</td>\n",
              "    </tr>\n",
              "  </tbody>\n",
              "</table>\n",
              "<p>8807 rows × 3 columns</p>\n",
              "</div>\n",
              "      <button class=\"colab-df-convert\" onclick=\"convertToInteractive('df-6ef2fee7-15aa-4768-aa3c-2ef2a1a0fbe9')\"\n",
              "              title=\"Convert this dataframe to an interactive table.\"\n",
              "              style=\"display:none;\">\n",
              "        \n",
              "  <svg xmlns=\"http://www.w3.org/2000/svg\" height=\"24px\"viewBox=\"0 0 24 24\"\n",
              "       width=\"24px\">\n",
              "    <path d=\"M0 0h24v24H0V0z\" fill=\"none\"/>\n",
              "    <path d=\"M18.56 5.44l.94 2.06.94-2.06 2.06-.94-2.06-.94-.94-2.06-.94 2.06-2.06.94zm-11 1L8.5 8.5l.94-2.06 2.06-.94-2.06-.94L8.5 2.5l-.94 2.06-2.06.94zm10 10l.94 2.06.94-2.06 2.06-.94-2.06-.94-.94-2.06-.94 2.06-2.06.94z\"/><path d=\"M17.41 7.96l-1.37-1.37c-.4-.4-.92-.59-1.43-.59-.52 0-1.04.2-1.43.59L10.3 9.45l-7.72 7.72c-.78.78-.78 2.05 0 2.83L4 21.41c.39.39.9.59 1.41.59.51 0 1.02-.2 1.41-.59l7.78-7.78 2.81-2.81c.8-.78.8-2.07 0-2.86zM5.41 20L4 18.59l7.72-7.72 1.47 1.35L5.41 20z\"/>\n",
              "  </svg>\n",
              "      </button>\n",
              "      \n",
              "  <style>\n",
              "    .colab-df-container {\n",
              "      display:flex;\n",
              "      flex-wrap:wrap;\n",
              "      gap: 12px;\n",
              "    }\n",
              "\n",
              "    .colab-df-convert {\n",
              "      background-color: #E8F0FE;\n",
              "      border: none;\n",
              "      border-radius: 50%;\n",
              "      cursor: pointer;\n",
              "      display: none;\n",
              "      fill: #1967D2;\n",
              "      height: 32px;\n",
              "      padding: 0 0 0 0;\n",
              "      width: 32px;\n",
              "    }\n",
              "\n",
              "    .colab-df-convert:hover {\n",
              "      background-color: #E2EBFA;\n",
              "      box-shadow: 0px 1px 2px rgba(60, 64, 67, 0.3), 0px 1px 3px 1px rgba(60, 64, 67, 0.15);\n",
              "      fill: #174EA6;\n",
              "    }\n",
              "\n",
              "    [theme=dark] .colab-df-convert {\n",
              "      background-color: #3B4455;\n",
              "      fill: #D2E3FC;\n",
              "    }\n",
              "\n",
              "    [theme=dark] .colab-df-convert:hover {\n",
              "      background-color: #434B5C;\n",
              "      box-shadow: 0px 1px 3px 1px rgba(0, 0, 0, 0.15);\n",
              "      filter: drop-shadow(0px 1px 2px rgba(0, 0, 0, 0.3));\n",
              "      fill: #FFFFFF;\n",
              "    }\n",
              "  </style>\n",
              "\n",
              "      <script>\n",
              "        const buttonEl =\n",
              "          document.querySelector('#df-6ef2fee7-15aa-4768-aa3c-2ef2a1a0fbe9 button.colab-df-convert');\n",
              "        buttonEl.style.display =\n",
              "          google.colab.kernel.accessAllowed ? 'block' : 'none';\n",
              "\n",
              "        async function convertToInteractive(key) {\n",
              "          const element = document.querySelector('#df-6ef2fee7-15aa-4768-aa3c-2ef2a1a0fbe9');\n",
              "          const dataTable =\n",
              "            await google.colab.kernel.invokeFunction('convertToInteractive',\n",
              "                                                     [key], {});\n",
              "          if (!dataTable) return;\n",
              "\n",
              "          const docLinkHtml = 'Like what you see? Visit the ' +\n",
              "            '<a target=\"_blank\" href=https://colab.research.google.com/notebooks/data_table.ipynb>data table notebook</a>'\n",
              "            + ' to learn more about interactive tables.';\n",
              "          element.innerHTML = '';\n",
              "          dataTable['output_type'] = 'display_data';\n",
              "          await google.colab.output.renderOutput(dataTable, element);\n",
              "          const docLink = document.createElement('div');\n",
              "          docLink.innerHTML = docLinkHtml;\n",
              "          element.appendChild(docLink);\n",
              "        }\n",
              "      </script>\n",
              "    </div>\n",
              "  </div>\n",
              "  "
            ]
          },
          "metadata": {},
          "execution_count": 26
        }
      ]
    },
    {
      "cell_type": "markdown",
      "source": [
        "## **คะแนนจาก Rotten Tomatoes ของ Netflix และ Disney+**\n",
        "ในส่วนนี้จะทำการ import dataset ที่มีคะแนน **Rotten Tomatoes** ของ **Netflix** และ **Disney+** และทำการเลือกเฉพาะส่วนที่มีอยู่ใน dataset แรก"
      ],
      "metadata": {
        "id": "_qwRRLBWCUZV"
      }
    },
    {
      "cell_type": "code",
      "source": [
        "#import datasets ที่มีคะแนน rotten tomatoes\n",
        "#url = 'link(url) raw ที่ upload ไว้บน github'\n",
        "rt_url = 'https://raw.githubusercontent.com/spw32767/EDAproject/main/MoviesOnStreamingPlatforms.csv'\n",
        "\n",
        "#ดึงข้อมูลมาใส่ไว้ใน Dataframe\n",
        "df_rt = pd.read_csv(rt_url) #df_rt = dataframe rotten tomatoes"
      ],
      "metadata": {
        "id": "mFlbUzHL9CVX"
      },
      "execution_count": null,
      "outputs": []
    },
    {
      "cell_type": "code",
      "source": [
        "#เช็คชื่อและรูปแบบของ columns\n",
        "print(f'{df_rt.columns}\\n')\n",
        "df_rt.head(3)"
      ],
      "metadata": {
        "colab": {
          "base_uri": "https://localhost:8080/",
          "height": 213
        },
        "id": "Gc3eswW598LF",
        "outputId": "69ed0b4d-78b7-4e10-e26a-632ff773b263"
      },
      "execution_count": null,
      "outputs": [
        {
          "output_type": "stream",
          "name": "stdout",
          "text": [
            "Index(['Unnamed: 0', 'ID', 'Title', 'Year', 'Age', 'Rotten Tomatoes',\n",
            "       'Netflix', 'Hulu', 'Prime Video', 'Disney+', 'Type'],\n",
            "      dtype='object')\n",
            "\n"
          ]
        },
        {
          "output_type": "execute_result",
          "data": {
            "text/plain": [
              "   Unnamed: 0  ID                                     Title  Year  Age  \\\n",
              "0           0   1                              The Irishman  2019  18+   \n",
              "1           1   2                                    Dangal  2016   7+   \n",
              "2           2   3  David Attenborough: A Life on Our Planet  2020   7+   \n",
              "\n",
              "  Rotten Tomatoes  Netflix  Hulu  Prime Video  Disney+  Type  \n",
              "0          98/100        1     0            0        0     0  \n",
              "1          97/100        1     0            0        0     0  \n",
              "2          95/100        1     0            0        0     0  "
            ],
            "text/html": [
              "\n",
              "  <div id=\"df-b9f93456-bbd7-4436-9fbf-913ec43b67c3\">\n",
              "    <div class=\"colab-df-container\">\n",
              "      <div>\n",
              "<style scoped>\n",
              "    .dataframe tbody tr th:only-of-type {\n",
              "        vertical-align: middle;\n",
              "    }\n",
              "\n",
              "    .dataframe tbody tr th {\n",
              "        vertical-align: top;\n",
              "    }\n",
              "\n",
              "    .dataframe thead th {\n",
              "        text-align: right;\n",
              "    }\n",
              "</style>\n",
              "<table border=\"1\" class=\"dataframe\">\n",
              "  <thead>\n",
              "    <tr style=\"text-align: right;\">\n",
              "      <th></th>\n",
              "      <th>Unnamed: 0</th>\n",
              "      <th>ID</th>\n",
              "      <th>Title</th>\n",
              "      <th>Year</th>\n",
              "      <th>Age</th>\n",
              "      <th>Rotten Tomatoes</th>\n",
              "      <th>Netflix</th>\n",
              "      <th>Hulu</th>\n",
              "      <th>Prime Video</th>\n",
              "      <th>Disney+</th>\n",
              "      <th>Type</th>\n",
              "    </tr>\n",
              "  </thead>\n",
              "  <tbody>\n",
              "    <tr>\n",
              "      <th>0</th>\n",
              "      <td>0</td>\n",
              "      <td>1</td>\n",
              "      <td>The Irishman</td>\n",
              "      <td>2019</td>\n",
              "      <td>18+</td>\n",
              "      <td>98/100</td>\n",
              "      <td>1</td>\n",
              "      <td>0</td>\n",
              "      <td>0</td>\n",
              "      <td>0</td>\n",
              "      <td>0</td>\n",
              "    </tr>\n",
              "    <tr>\n",
              "      <th>1</th>\n",
              "      <td>1</td>\n",
              "      <td>2</td>\n",
              "      <td>Dangal</td>\n",
              "      <td>2016</td>\n",
              "      <td>7+</td>\n",
              "      <td>97/100</td>\n",
              "      <td>1</td>\n",
              "      <td>0</td>\n",
              "      <td>0</td>\n",
              "      <td>0</td>\n",
              "      <td>0</td>\n",
              "    </tr>\n",
              "    <tr>\n",
              "      <th>2</th>\n",
              "      <td>2</td>\n",
              "      <td>3</td>\n",
              "      <td>David Attenborough: A Life on Our Planet</td>\n",
              "      <td>2020</td>\n",
              "      <td>7+</td>\n",
              "      <td>95/100</td>\n",
              "      <td>1</td>\n",
              "      <td>0</td>\n",
              "      <td>0</td>\n",
              "      <td>0</td>\n",
              "      <td>0</td>\n",
              "    </tr>\n",
              "  </tbody>\n",
              "</table>\n",
              "</div>\n",
              "      <button class=\"colab-df-convert\" onclick=\"convertToInteractive('df-b9f93456-bbd7-4436-9fbf-913ec43b67c3')\"\n",
              "              title=\"Convert this dataframe to an interactive table.\"\n",
              "              style=\"display:none;\">\n",
              "        \n",
              "  <svg xmlns=\"http://www.w3.org/2000/svg\" height=\"24px\"viewBox=\"0 0 24 24\"\n",
              "       width=\"24px\">\n",
              "    <path d=\"M0 0h24v24H0V0z\" fill=\"none\"/>\n",
              "    <path d=\"M18.56 5.44l.94 2.06.94-2.06 2.06-.94-2.06-.94-.94-2.06-.94 2.06-2.06.94zm-11 1L8.5 8.5l.94-2.06 2.06-.94-2.06-.94L8.5 2.5l-.94 2.06-2.06.94zm10 10l.94 2.06.94-2.06 2.06-.94-2.06-.94-.94-2.06-.94 2.06-2.06.94z\"/><path d=\"M17.41 7.96l-1.37-1.37c-.4-.4-.92-.59-1.43-.59-.52 0-1.04.2-1.43.59L10.3 9.45l-7.72 7.72c-.78.78-.78 2.05 0 2.83L4 21.41c.39.39.9.59 1.41.59.51 0 1.02-.2 1.41-.59l7.78-7.78 2.81-2.81c.8-.78.8-2.07 0-2.86zM5.41 20L4 18.59l7.72-7.72 1.47 1.35L5.41 20z\"/>\n",
              "  </svg>\n",
              "      </button>\n",
              "      \n",
              "  <style>\n",
              "    .colab-df-container {\n",
              "      display:flex;\n",
              "      flex-wrap:wrap;\n",
              "      gap: 12px;\n",
              "    }\n",
              "\n",
              "    .colab-df-convert {\n",
              "      background-color: #E8F0FE;\n",
              "      border: none;\n",
              "      border-radius: 50%;\n",
              "      cursor: pointer;\n",
              "      display: none;\n",
              "      fill: #1967D2;\n",
              "      height: 32px;\n",
              "      padding: 0 0 0 0;\n",
              "      width: 32px;\n",
              "    }\n",
              "\n",
              "    .colab-df-convert:hover {\n",
              "      background-color: #E2EBFA;\n",
              "      box-shadow: 0px 1px 2px rgba(60, 64, 67, 0.3), 0px 1px 3px 1px rgba(60, 64, 67, 0.15);\n",
              "      fill: #174EA6;\n",
              "    }\n",
              "\n",
              "    [theme=dark] .colab-df-convert {\n",
              "      background-color: #3B4455;\n",
              "      fill: #D2E3FC;\n",
              "    }\n",
              "\n",
              "    [theme=dark] .colab-df-convert:hover {\n",
              "      background-color: #434B5C;\n",
              "      box-shadow: 0px 1px 3px 1px rgba(0, 0, 0, 0.15);\n",
              "      filter: drop-shadow(0px 1px 2px rgba(0, 0, 0, 0.3));\n",
              "      fill: #FFFFFF;\n",
              "    }\n",
              "  </style>\n",
              "\n",
              "      <script>\n",
              "        const buttonEl =\n",
              "          document.querySelector('#df-b9f93456-bbd7-4436-9fbf-913ec43b67c3 button.colab-df-convert');\n",
              "        buttonEl.style.display =\n",
              "          google.colab.kernel.accessAllowed ? 'block' : 'none';\n",
              "\n",
              "        async function convertToInteractive(key) {\n",
              "          const element = document.querySelector('#df-b9f93456-bbd7-4436-9fbf-913ec43b67c3');\n",
              "          const dataTable =\n",
              "            await google.colab.kernel.invokeFunction('convertToInteractive',\n",
              "                                                     [key], {});\n",
              "          if (!dataTable) return;\n",
              "\n",
              "          const docLinkHtml = 'Like what you see? Visit the ' +\n",
              "            '<a target=\"_blank\" href=https://colab.research.google.com/notebooks/data_table.ipynb>data table notebook</a>'\n",
              "            + ' to learn more about interactive tables.';\n",
              "          element.innerHTML = '';\n",
              "          dataTable['output_type'] = 'display_data';\n",
              "          await google.colab.output.renderOutput(dataTable, element);\n",
              "          const docLink = document.createElement('div');\n",
              "          docLink.innerHTML = docLinkHtml;\n",
              "          element.appendChild(docLink);\n",
              "        }\n",
              "      </script>\n",
              "    </div>\n",
              "  </div>\n",
              "  "
            ]
          },
          "metadata": {},
          "execution_count": 28
        }
      ]
    },
    {
      "cell_type": "markdown",
      "source": [
        "เปลี่ยนชื่อ column ที่จะใช้ให้เหมือนกัน และ drop columns ที่ไม่จำเป็น"
      ],
      "metadata": {
        "id": "2aaoZjKWISLr"
      }
    },
    {
      "cell_type": "code",
      "source": [
        "#เปลี่ยนชื่อที่จะใช้ column ให้เหมือนกับ dataframe แรก\n",
        "df_rt.rename(columns={'Title': 'title', 'Disney+': 'Disney'}, inplace=True)\n",
        "\n",
        "#drop column ที่ไม่จำเป็นออก\n",
        "df_rt = df_rt.drop(['Unnamed: 0','Year', 'Age', 'Hulu', 'Prime Video', 'Type'], axis = 1) #axis = 0 คือ row | axis = 1 คือ column\n",
        "\n",
        "#เช็ค columns\n",
        "print(f'{df_rt.columns}\\n')\n",
        "\n",
        "#เช็คจำนวน columns\n",
        "print(df_rt['ID'].value_counts)\n",
        "print('\\n')\n",
        "\n",
        "#เช็ครูปแบบ column\n",
        "df_rt.head(3)"
      ],
      "metadata": {
        "colab": {
          "base_uri": "https://localhost:8080/",
          "height": 421
        },
        "id": "0s1LNMIE9SqG",
        "outputId": "bea30983-7e23-4815-d7af-a36d48b36a98"
      },
      "execution_count": null,
      "outputs": [
        {
          "output_type": "stream",
          "name": "stdout",
          "text": [
            "Index(['ID', 'title', 'Rotten Tomatoes', 'Netflix', 'Disney'], dtype='object')\n",
            "\n",
            "<bound method IndexOpsMixin.value_counts of 0          1\n",
            "1          2\n",
            "2          3\n",
            "3          4\n",
            "4          5\n",
            "        ... \n",
            "9510    9511\n",
            "9511    9512\n",
            "9512    9513\n",
            "9513    9514\n",
            "9514    9515\n",
            "Name: ID, Length: 9515, dtype: int64>\n",
            "\n",
            "\n"
          ]
        },
        {
          "output_type": "execute_result",
          "data": {
            "text/plain": [
              "   ID                                     title Rotten Tomatoes  Netflix  \\\n",
              "0   1                              The Irishman          98/100        1   \n",
              "1   2                                    Dangal          97/100        1   \n",
              "2   3  David Attenborough: A Life on Our Planet          95/100        1   \n",
              "\n",
              "   Disney  \n",
              "0       0  \n",
              "1       0  \n",
              "2       0  "
            ],
            "text/html": [
              "\n",
              "  <div id=\"df-981e459c-383f-4d91-af3a-b26e4e8d379e\">\n",
              "    <div class=\"colab-df-container\">\n",
              "      <div>\n",
              "<style scoped>\n",
              "    .dataframe tbody tr th:only-of-type {\n",
              "        vertical-align: middle;\n",
              "    }\n",
              "\n",
              "    .dataframe tbody tr th {\n",
              "        vertical-align: top;\n",
              "    }\n",
              "\n",
              "    .dataframe thead th {\n",
              "        text-align: right;\n",
              "    }\n",
              "</style>\n",
              "<table border=\"1\" class=\"dataframe\">\n",
              "  <thead>\n",
              "    <tr style=\"text-align: right;\">\n",
              "      <th></th>\n",
              "      <th>ID</th>\n",
              "      <th>title</th>\n",
              "      <th>Rotten Tomatoes</th>\n",
              "      <th>Netflix</th>\n",
              "      <th>Disney</th>\n",
              "    </tr>\n",
              "  </thead>\n",
              "  <tbody>\n",
              "    <tr>\n",
              "      <th>0</th>\n",
              "      <td>1</td>\n",
              "      <td>The Irishman</td>\n",
              "      <td>98/100</td>\n",
              "      <td>1</td>\n",
              "      <td>0</td>\n",
              "    </tr>\n",
              "    <tr>\n",
              "      <th>1</th>\n",
              "      <td>2</td>\n",
              "      <td>Dangal</td>\n",
              "      <td>97/100</td>\n",
              "      <td>1</td>\n",
              "      <td>0</td>\n",
              "    </tr>\n",
              "    <tr>\n",
              "      <th>2</th>\n",
              "      <td>3</td>\n",
              "      <td>David Attenborough: A Life on Our Planet</td>\n",
              "      <td>95/100</td>\n",
              "      <td>1</td>\n",
              "      <td>0</td>\n",
              "    </tr>\n",
              "  </tbody>\n",
              "</table>\n",
              "</div>\n",
              "      <button class=\"colab-df-convert\" onclick=\"convertToInteractive('df-981e459c-383f-4d91-af3a-b26e4e8d379e')\"\n",
              "              title=\"Convert this dataframe to an interactive table.\"\n",
              "              style=\"display:none;\">\n",
              "        \n",
              "  <svg xmlns=\"http://www.w3.org/2000/svg\" height=\"24px\"viewBox=\"0 0 24 24\"\n",
              "       width=\"24px\">\n",
              "    <path d=\"M0 0h24v24H0V0z\" fill=\"none\"/>\n",
              "    <path d=\"M18.56 5.44l.94 2.06.94-2.06 2.06-.94-2.06-.94-.94-2.06-.94 2.06-2.06.94zm-11 1L8.5 8.5l.94-2.06 2.06-.94-2.06-.94L8.5 2.5l-.94 2.06-2.06.94zm10 10l.94 2.06.94-2.06 2.06-.94-2.06-.94-.94-2.06-.94 2.06-2.06.94z\"/><path d=\"M17.41 7.96l-1.37-1.37c-.4-.4-.92-.59-1.43-.59-.52 0-1.04.2-1.43.59L10.3 9.45l-7.72 7.72c-.78.78-.78 2.05 0 2.83L4 21.41c.39.39.9.59 1.41.59.51 0 1.02-.2 1.41-.59l7.78-7.78 2.81-2.81c.8-.78.8-2.07 0-2.86zM5.41 20L4 18.59l7.72-7.72 1.47 1.35L5.41 20z\"/>\n",
              "  </svg>\n",
              "      </button>\n",
              "      \n",
              "  <style>\n",
              "    .colab-df-container {\n",
              "      display:flex;\n",
              "      flex-wrap:wrap;\n",
              "      gap: 12px;\n",
              "    }\n",
              "\n",
              "    .colab-df-convert {\n",
              "      background-color: #E8F0FE;\n",
              "      border: none;\n",
              "      border-radius: 50%;\n",
              "      cursor: pointer;\n",
              "      display: none;\n",
              "      fill: #1967D2;\n",
              "      height: 32px;\n",
              "      padding: 0 0 0 0;\n",
              "      width: 32px;\n",
              "    }\n",
              "\n",
              "    .colab-df-convert:hover {\n",
              "      background-color: #E2EBFA;\n",
              "      box-shadow: 0px 1px 2px rgba(60, 64, 67, 0.3), 0px 1px 3px 1px rgba(60, 64, 67, 0.15);\n",
              "      fill: #174EA6;\n",
              "    }\n",
              "\n",
              "    [theme=dark] .colab-df-convert {\n",
              "      background-color: #3B4455;\n",
              "      fill: #D2E3FC;\n",
              "    }\n",
              "\n",
              "    [theme=dark] .colab-df-convert:hover {\n",
              "      background-color: #434B5C;\n",
              "      box-shadow: 0px 1px 3px 1px rgba(0, 0, 0, 0.15);\n",
              "      filter: drop-shadow(0px 1px 2px rgba(0, 0, 0, 0.3));\n",
              "      fill: #FFFFFF;\n",
              "    }\n",
              "  </style>\n",
              "\n",
              "      <script>\n",
              "        const buttonEl =\n",
              "          document.querySelector('#df-981e459c-383f-4d91-af3a-b26e4e8d379e button.colab-df-convert');\n",
              "        buttonEl.style.display =\n",
              "          google.colab.kernel.accessAllowed ? 'block' : 'none';\n",
              "\n",
              "        async function convertToInteractive(key) {\n",
              "          const element = document.querySelector('#df-981e459c-383f-4d91-af3a-b26e4e8d379e');\n",
              "          const dataTable =\n",
              "            await google.colab.kernel.invokeFunction('convertToInteractive',\n",
              "                                                     [key], {});\n",
              "          if (!dataTable) return;\n",
              "\n",
              "          const docLinkHtml = 'Like what you see? Visit the ' +\n",
              "            '<a target=\"_blank\" href=https://colab.research.google.com/notebooks/data_table.ipynb>data table notebook</a>'\n",
              "            + ' to learn more about interactive tables.';\n",
              "          element.innerHTML = '';\n",
              "          dataTable['output_type'] = 'display_data';\n",
              "          await google.colab.output.renderOutput(dataTable, element);\n",
              "          const docLink = document.createElement('div');\n",
              "          docLink.innerHTML = docLinkHtml;\n",
              "          element.appendChild(docLink);\n",
              "        }\n",
              "      </script>\n",
              "    </div>\n",
              "  </div>\n",
              "  "
            ]
          },
          "metadata": {},
          "execution_count": 29
        }
      ]
    },
    {
      "cell_type": "markdown",
      "source": [
        "รูปแบบของ **dataset** คือ ถ้าเป็นคะแนนของแอปพลิเคชั่นไหน **row** นั้นจะเป็น 1\n",
        "\n",
        "---\n",
        "\n",
        "ทำการสร้าง **dataframe** ใหม่ โดยแยกระหว่าง **Netflix** และ **Disney+**\n",
        "\n",
        "โดยเอาเฉพาะชื่อเรื่องและคะแนน **Rotten Tomatoes**\n",
        "\n"
      ],
      "metadata": {
        "id": "VI04ilmVDv31"
      }
    },
    {
      "cell_type": "code",
      "source": [
        "#สร้าง dataframe ของ Netflix\n",
        "rotten_nf = df_rt[['title','Rotten Tomatoes', 'Netflix']].copy()\n",
        "\n",
        "#สร้าง dataframe ของ Disney+\n",
        "rotten_dp = df_rt[['title','Rotten Tomatoes', 'Disney']].copy()"
      ],
      "metadata": {
        "id": "u30bGXCzA-qp"
      },
      "execution_count": null,
      "outputs": []
    },
    {
      "cell_type": "markdown",
      "source": [
        "ทำการแยกส่วนของคะแนน ระหว่าง **Netflix** และ **Disney+**"
      ],
      "metadata": {
        "id": "4HSN8E8zI_8z"
      }
    },
    {
      "cell_type": "code",
      "source": [
        "#ทำการ drop Row ที่ Netflix ไม่เป็น 1\n",
        "rotten_nf = rotten_nf.drop(rotten_nf[rotten_nf.Netflix == 0].index)\n",
        "\n",
        "#เช็คจำนวนของ Netflix\n",
        "print(f'จำนวนข้อมูลคะแนนที่มีของ Netflix: {len(rotten_nf.axes[0])}') #axes 0 = row | 1 = column"
      ],
      "metadata": {
        "colab": {
          "base_uri": "https://localhost:8080/"
        },
        "id": "GoeqkT8F_NXx",
        "outputId": "6af62ff2-6dc4-4d05-b986-5dd92c7aa8dd"
      },
      "execution_count": null,
      "outputs": [
        {
          "output_type": "stream",
          "name": "stdout",
          "text": [
            "จำนวนข้อมูลคะแนนที่มีของ Netflix: 3695\n"
          ]
        }
      ]
    },
    {
      "cell_type": "code",
      "source": [
        "#ทำการ drop Row ที่ Disney+ ไม่เป็น 1\n",
        "rotten_dp = rotten_dp.drop(rotten_dp[rotten_dp.Disney == 0].index)\n",
        "\n",
        "#เช็คจำนวนของ Disney+\n",
        "print(f'จำนวนข้อมูลคะแนนที่มีของ Disney+: {len(rotten_dp.axes[0])}') #axes 0 = row | 1 = column"
      ],
      "metadata": {
        "colab": {
          "base_uri": "https://localhost:8080/"
        },
        "id": "m2p-iOeYJs1X",
        "outputId": "64b26414-ab40-419f-f1c4-05a720fee53a"
      },
      "execution_count": null,
      "outputs": [
        {
          "output_type": "stream",
          "name": "stdout",
          "text": [
            "จำนวนข้อมูลคะแนนที่มีของ Disney+: 922\n"
          ]
        }
      ]
    },
    {
      "cell_type": "code",
      "source": [
        "#สร้าง dataframe ใหม่ โดยใช้ข้อมูลจาก dataset แรก เพื่อที่จะนำไป merge\n",
        "#Netflix\n",
        "nf_merge = df_nf[['type', 'title']].copy()\n",
        "#Disney+\n",
        "dp_merge = df_dp[['type', 'title']].copy()"
      ],
      "metadata": {
        "id": "4zdZN11d80kg"
      },
      "execution_count": null,
      "outputs": []
    },
    {
      "cell_type": "markdown",
      "source": [
        "ทำการ Merge Dataset ทั้งสองเข้าด้วยกัน โดยใช้ column: 'title'"
      ],
      "metadata": {
        "id": "-0Mmew7wNciO"
      }
    },
    {
      "cell_type": "code",
      "source": [
        "merge_rt_nf = pd.merge(nf_merge, rotten_nf, on='title')\n",
        "print(f'จำนวนข้อมูลคะแนนที่มีของ Netflix หลังจาก Merge: {len(merge_rt_nf.axes[0])}')"
      ],
      "metadata": {
        "colab": {
          "base_uri": "https://localhost:8080/"
        },
        "id": "_CiL-DKONoh3",
        "outputId": "da9faa58-5970-4cc3-e525-4ff156046a51"
      },
      "execution_count": null,
      "outputs": [
        {
          "output_type": "stream",
          "name": "stdout",
          "text": [
            "จำนวนข้อมูลคะแนนที่มีของ Netflix หลังจาก Merge: 3042\n"
          ]
        }
      ]
    },
    {
      "cell_type": "code",
      "source": [
        "merge_rt_dp = pd.merge(dp_merge, rotten_dp, on='title')\n",
        "print(f'จำนวนข้อมูลคะแนนที่มีของ Disney+ หลังจาก Merge: {len(merge_rt_dp.axes[0])}')"
      ],
      "metadata": {
        "colab": {
          "base_uri": "https://localhost:8080/"
        },
        "id": "-Imzc2EfPLRD",
        "outputId": "7b495a0f-9c8f-4e14-9a9b-f0c795b8414b"
      },
      "execution_count": null,
      "outputs": [
        {
          "output_type": "stream",
          "name": "stdout",
          "text": [
            "จำนวนข้อมูลคะแนนที่มีของ Disney+ หลังจาก Merge: 734\n"
          ]
        }
      ]
    },
    {
      "cell_type": "markdown",
      "source": [
        "ทำการเช็คและจัดการกับข้อมูลที่เป็น Null"
      ],
      "metadata": {
        "id": "l7vrxb3Rlmkl"
      }
    },
    {
      "cell_type": "code",
      "source": [
        "#เช็คข้อมูล Null\n",
        "print(f'Netflix:\\n{merge_rt_nf.isnull().sum()}\\n')\n",
        "print(f'Disney:\\n{merge_rt_dp.isnull().sum()}')\n",
        "\n",
        "#แทนที่ Missing Values ใน Rotten Tomatoes ด้วย method: ffill\n",
        "merge_rt_nf['Rotten Tomatoes']= merge_rt_nf['Rotten Tomatoes'].fillna(method=\"ffill\")\n",
        "\n",
        "#เช็คข้อมูล Null\n",
        "print(f'\\nข้อมูลที่ได้หลังจากจัดการแล้ว\\n')\n",
        "print(f'Netflix:\\n{merge_rt_nf.isnull().sum()}\\n')"
      ],
      "metadata": {
        "colab": {
          "base_uri": "https://localhost:8080/"
        },
        "id": "EcztKDcOlsHc",
        "outputId": "ea645446-757b-4867-e912-be00e0ec7d6d"
      },
      "execution_count": null,
      "outputs": [
        {
          "output_type": "stream",
          "name": "stdout",
          "text": [
            "Netflix:\n",
            "type               0\n",
            "title              0\n",
            "Rotten Tomatoes    7\n",
            "Netflix            0\n",
            "dtype: int64\n",
            "\n",
            "Disney:\n",
            "type               0\n",
            "title              0\n",
            "Rotten Tomatoes    0\n",
            "Disney             0\n",
            "dtype: int64\n",
            "\n",
            "ข้อมูลที่ได้หลังจากจัดการแล้ว\n",
            "\n",
            "Netflix:\n",
            "type               0\n",
            "title              0\n",
            "Rotten Tomatoes    0\n",
            "Netflix            0\n",
            "dtype: int64\n",
            "\n"
          ]
        }
      ]
    },
    {
      "cell_type": "code",
      "source": [
        "#ทำการ split คะแนน Rotten Tomatoes เพื่อที่จะนำมาพล็อตกราฟ เนื่องจากข้อมูลไม่ได้เป็น type int\n",
        "\n",
        "#Netflix\n",
        "merge_rt_nf['Rotten Tomatoes'] = merge_rt_nf['Rotten Tomatoes'].str.split('/').str[0]\n",
        "merge_rt_nf['Rotten Tomatoes'] = merge_rt_nf['Rotten Tomatoes'].astype(int) #เปลี่ยนจาก String เป็น int\n",
        "#Disney+\n",
        "merge_rt_dp['Rotten Tomatoes'] = merge_rt_dp['Rotten Tomatoes'].str.split('/').str[0]\n",
        "merge_rt_dp['Rotten Tomatoes'] = merge_rt_dp['Rotten Tomatoes'].astype(int) #เปลี่ยนจาก String เป็น int\n",
        "\n",
        "#เช็คข้อมูล\n",
        "merge_rt_nf.head(3)"
      ],
      "metadata": {
        "colab": {
          "base_uri": "https://localhost:8080/",
          "height": 143
        },
        "id": "ygYWCBIbjVuu",
        "outputId": "e577bd66-be79-4758-cd76-ca6e5dfc0d29"
      },
      "execution_count": null,
      "outputs": [
        {
          "output_type": "execute_result",
          "data": {
            "text/plain": [
              "    type                                     title  Rotten Tomatoes  Netflix\n",
              "0  Movie                      Dick Johnson Is Dead               64        1\n",
              "1  Movie                                Dark Skies               72        1\n",
              "2  Movie  Naruto Shippuden the Movie: Blood Prison               63        1"
            ],
            "text/html": [
              "\n",
              "  <div id=\"df-439e6fb6-cc0e-4fb0-993e-212c8777819f\">\n",
              "    <div class=\"colab-df-container\">\n",
              "      <div>\n",
              "<style scoped>\n",
              "    .dataframe tbody tr th:only-of-type {\n",
              "        vertical-align: middle;\n",
              "    }\n",
              "\n",
              "    .dataframe tbody tr th {\n",
              "        vertical-align: top;\n",
              "    }\n",
              "\n",
              "    .dataframe thead th {\n",
              "        text-align: right;\n",
              "    }\n",
              "</style>\n",
              "<table border=\"1\" class=\"dataframe\">\n",
              "  <thead>\n",
              "    <tr style=\"text-align: right;\">\n",
              "      <th></th>\n",
              "      <th>type</th>\n",
              "      <th>title</th>\n",
              "      <th>Rotten Tomatoes</th>\n",
              "      <th>Netflix</th>\n",
              "    </tr>\n",
              "  </thead>\n",
              "  <tbody>\n",
              "    <tr>\n",
              "      <th>0</th>\n",
              "      <td>Movie</td>\n",
              "      <td>Dick Johnson Is Dead</td>\n",
              "      <td>64</td>\n",
              "      <td>1</td>\n",
              "    </tr>\n",
              "    <tr>\n",
              "      <th>1</th>\n",
              "      <td>Movie</td>\n",
              "      <td>Dark Skies</td>\n",
              "      <td>72</td>\n",
              "      <td>1</td>\n",
              "    </tr>\n",
              "    <tr>\n",
              "      <th>2</th>\n",
              "      <td>Movie</td>\n",
              "      <td>Naruto Shippuden the Movie: Blood Prison</td>\n",
              "      <td>63</td>\n",
              "      <td>1</td>\n",
              "    </tr>\n",
              "  </tbody>\n",
              "</table>\n",
              "</div>\n",
              "      <button class=\"colab-df-convert\" onclick=\"convertToInteractive('df-439e6fb6-cc0e-4fb0-993e-212c8777819f')\"\n",
              "              title=\"Convert this dataframe to an interactive table.\"\n",
              "              style=\"display:none;\">\n",
              "        \n",
              "  <svg xmlns=\"http://www.w3.org/2000/svg\" height=\"24px\"viewBox=\"0 0 24 24\"\n",
              "       width=\"24px\">\n",
              "    <path d=\"M0 0h24v24H0V0z\" fill=\"none\"/>\n",
              "    <path d=\"M18.56 5.44l.94 2.06.94-2.06 2.06-.94-2.06-.94-.94-2.06-.94 2.06-2.06.94zm-11 1L8.5 8.5l.94-2.06 2.06-.94-2.06-.94L8.5 2.5l-.94 2.06-2.06.94zm10 10l.94 2.06.94-2.06 2.06-.94-2.06-.94-.94-2.06-.94 2.06-2.06.94z\"/><path d=\"M17.41 7.96l-1.37-1.37c-.4-.4-.92-.59-1.43-.59-.52 0-1.04.2-1.43.59L10.3 9.45l-7.72 7.72c-.78.78-.78 2.05 0 2.83L4 21.41c.39.39.9.59 1.41.59.51 0 1.02-.2 1.41-.59l7.78-7.78 2.81-2.81c.8-.78.8-2.07 0-2.86zM5.41 20L4 18.59l7.72-7.72 1.47 1.35L5.41 20z\"/>\n",
              "  </svg>\n",
              "      </button>\n",
              "      \n",
              "  <style>\n",
              "    .colab-df-container {\n",
              "      display:flex;\n",
              "      flex-wrap:wrap;\n",
              "      gap: 12px;\n",
              "    }\n",
              "\n",
              "    .colab-df-convert {\n",
              "      background-color: #E8F0FE;\n",
              "      border: none;\n",
              "      border-radius: 50%;\n",
              "      cursor: pointer;\n",
              "      display: none;\n",
              "      fill: #1967D2;\n",
              "      height: 32px;\n",
              "      padding: 0 0 0 0;\n",
              "      width: 32px;\n",
              "    }\n",
              "\n",
              "    .colab-df-convert:hover {\n",
              "      background-color: #E2EBFA;\n",
              "      box-shadow: 0px 1px 2px rgba(60, 64, 67, 0.3), 0px 1px 3px 1px rgba(60, 64, 67, 0.15);\n",
              "      fill: #174EA6;\n",
              "    }\n",
              "\n",
              "    [theme=dark] .colab-df-convert {\n",
              "      background-color: #3B4455;\n",
              "      fill: #D2E3FC;\n",
              "    }\n",
              "\n",
              "    [theme=dark] .colab-df-convert:hover {\n",
              "      background-color: #434B5C;\n",
              "      box-shadow: 0px 1px 3px 1px rgba(0, 0, 0, 0.15);\n",
              "      filter: drop-shadow(0px 1px 2px rgba(0, 0, 0, 0.3));\n",
              "      fill: #FFFFFF;\n",
              "    }\n",
              "  </style>\n",
              "\n",
              "      <script>\n",
              "        const buttonEl =\n",
              "          document.querySelector('#df-439e6fb6-cc0e-4fb0-993e-212c8777819f button.colab-df-convert');\n",
              "        buttonEl.style.display =\n",
              "          google.colab.kernel.accessAllowed ? 'block' : 'none';\n",
              "\n",
              "        async function convertToInteractive(key) {\n",
              "          const element = document.querySelector('#df-439e6fb6-cc0e-4fb0-993e-212c8777819f');\n",
              "          const dataTable =\n",
              "            await google.colab.kernel.invokeFunction('convertToInteractive',\n",
              "                                                     [key], {});\n",
              "          if (!dataTable) return;\n",
              "\n",
              "          const docLinkHtml = 'Like what you see? Visit the ' +\n",
              "            '<a target=\"_blank\" href=https://colab.research.google.com/notebooks/data_table.ipynb>data table notebook</a>'\n",
              "            + ' to learn more about interactive tables.';\n",
              "          element.innerHTML = '';\n",
              "          dataTable['output_type'] = 'display_data';\n",
              "          await google.colab.output.renderOutput(dataTable, element);\n",
              "          const docLink = document.createElement('div');\n",
              "          docLink.innerHTML = docLinkHtml;\n",
              "          element.appendChild(docLink);\n",
              "        }\n",
              "      </script>\n",
              "    </div>\n",
              "  </div>\n",
              "  "
            ]
          },
          "metadata": {},
          "execution_count": 37
        }
      ]
    },
    {
      "cell_type": "code",
      "source": [
        "#Netflix\n",
        "#แบ่งช่วงของคะแนนไปเก็บไว้ใน Column Score\n",
        "merge_rt_nf.loc[merge_rt_nf['Rotten Tomatoes'] >= 0,   'Score'] = '0-9'\n",
        "merge_rt_nf.loc[merge_rt_nf['Rotten Tomatoes'] >= 10, 'Score'] = '10-19'\n",
        "merge_rt_nf.loc[merge_rt_nf['Rotten Tomatoes'] >= 20, 'Score'] = '20-29'\n",
        "merge_rt_nf.loc[merge_rt_nf['Rotten Tomatoes'] >= 30, 'Score'] = '30-39'\n",
        "merge_rt_nf.loc[merge_rt_nf['Rotten Tomatoes'] >= 40, 'Score'] = '40-49'\n",
        "merge_rt_nf.loc[merge_rt_nf['Rotten Tomatoes'] >= 50, 'Score'] = '50-59'\n",
        "merge_rt_nf.loc[merge_rt_nf['Rotten Tomatoes'] >= 60, 'Score'] = '60-69'\n",
        "merge_rt_nf.loc[merge_rt_nf['Rotten Tomatoes'] >= 70, 'Score'] = '70-79'\n",
        "merge_rt_nf.loc[merge_rt_nf['Rotten Tomatoes'] >= 80, 'Score'] = '80-89'\n",
        "merge_rt_nf.loc[merge_rt_nf['Rotten Tomatoes'] >= 90, 'Score'] = '90-100'\n",
        "\n",
        "#Disney+\n",
        "#แบ่งช่วงของคะแนนไปเก็บไว้ใน Column Score\n",
        "merge_rt_dp.loc[merge_rt_dp['Rotten Tomatoes'] >= 0,   'Score'] = '0-9'\n",
        "merge_rt_dp.loc[merge_rt_dp['Rotten Tomatoes'] >= 10, 'Score'] = '10-19'\n",
        "merge_rt_dp.loc[merge_rt_dp['Rotten Tomatoes'] >= 20, 'Score'] = '20-29'\n",
        "merge_rt_dp.loc[merge_rt_dp['Rotten Tomatoes'] >= 30, 'Score'] = '30-39'\n",
        "merge_rt_dp.loc[merge_rt_dp['Rotten Tomatoes'] >= 40, 'Score'] = '40-49'\n",
        "merge_rt_dp.loc[merge_rt_dp['Rotten Tomatoes'] >= 50, 'Score'] = '50-59'\n",
        "merge_rt_dp.loc[merge_rt_dp['Rotten Tomatoes'] >= 60, 'Score'] = '60-69'\n",
        "merge_rt_dp.loc[merge_rt_dp['Rotten Tomatoes'] >= 70, 'Score'] = '70-79'\n",
        "merge_rt_dp.loc[merge_rt_dp['Rotten Tomatoes'] >= 80, 'Score'] = '80-89'\n",
        "merge_rt_dp.loc[merge_rt_dp['Rotten Tomatoes'] >= 90, 'Score'] = '90-100'"
      ],
      "metadata": {
        "id": "nYU-D3jTt1l_"
      },
      "execution_count": null,
      "outputs": []
    },
    {
      "cell_type": "code",
      "source": [
        "#กราฟคะแนนโดยรวมของ Netflix\n",
        "a,ax=plt.subplots(figsize=(10,5)) #ปรับขนาดของกราฟ\n",
        "plt.xticks(rotation=90) #หมุนตัวหนังสือ 90 องศา ให้เป็นแนวตั้ง\n",
        "sns.countplot(x=merge_rt_nf['Rotten Tomatoes'])\n",
        "plt.show()"
      ],
      "metadata": {
        "colab": {
          "base_uri": "https://localhost:8080/",
          "height": 336
        },
        "id": "QGbqJvvvilcp",
        "outputId": "2911b5b5-aee2-49c3-a9ee-635cf909b965"
      },
      "execution_count": null,
      "outputs": [
        {
          "output_type": "display_data",
          "data": {
            "text/plain": [
              "<Figure size 720x360 with 1 Axes>"
            ],
            "image/png": "[encoded data removed]"
          },
          "metadata": {
            "needs_background": "light"
          }
        }
      ]
    },
    {
      "cell_type": "code",
      "source": [
        "#กราฟคะแนนโดยแบ่งตามช่วงของคะแนนของ Netflix\n",
        "a,ax=plt.subplots(figsize=(10,5)) #ปรับขนาดของกราฟ\n",
        "plt.xticks(rotation=45) #หมุนตัวหนังสือ 45 องศา\n",
        "sns.countplot(x=merge_rt_nf['Score'])\n",
        "plt.show()\n",
        "\n",
        "print(f'\\n-----------Netflix Score-----------')\n",
        "print(merge_rt_nf['Score'].value_counts())"
      ],
      "metadata": {
        "colab": {
          "base_uri": "https://localhost:8080/",
          "height": 564
        },
        "id": "YWL17VeAys_j",
        "outputId": "0c16ab6d-45b4-462e-d4a1-de8f2feb8cbc"
      },
      "execution_count": null,
      "outputs": [
        {
          "output_type": "display_data",
          "data": {
            "text/plain": [
              "<Figure size 720x360 with 1 Axes>"
            ],
            "image/png": "[encoded data removed]"
          },
          "metadata": {
            "needs_background": "light"
          }
        },
        {
          "output_type": "stream",
          "name": "stdout",
          "text": [
            "\n",
            "-----------Netflix Score-----------\n",
            "50-59     860\n",
            "40-49     767\n",
            "60-69     585\n",
            "70-79     333\n",
            "30-39     296\n",
            "80-89     132\n",
            "10-19      46\n",
            "90-100     15\n",
            "20-29       8\n",
            "Name: Score, dtype: int64\n"
          ]
        }
      ]
    },
    {
      "cell_type": "code",
      "source": [
        "#กราฟคะแนนโดยรวมของ Disney+\n",
        "a,ax=plt.subplots(figsize=(10,5)) #ปรับขนาดของกราฟ\n",
        "plt.xticks(rotation=90) #หมุนตัวหนังสือ 90 องศา ให้เป็นแนวตั้ง\n",
        "sns.countplot(x=merge_rt_dp['Rotten Tomatoes'])\n",
        "plt.show()"
      ],
      "metadata": {
        "colab": {
          "base_uri": "https://localhost:8080/",
          "height": 336
        },
        "id": "-QSLpBTG2DZD",
        "outputId": "6c243db6-4f89-4e3d-f702-150761cf259d"
      },
      "execution_count": null,
      "outputs": [
        {
          "output_type": "display_data",
          "data": {
            "text/plain": [
              "<Figure size 720x360 with 1 Axes>"
            ],
            "image/png": "[encoded data removed]"
          },
          "metadata": {
            "needs_background": "light"
          }
        }
      ]
    },
    {
      "cell_type": "code",
      "source": [
        "#กราฟคะแนนโดยแบ่งตามช่วงของคะแนนของ Disney+\n",
        "a,ax=plt.subplots(figsize=(10,5)) #ปรับขนาดของกราฟ\n",
        "plt.xticks(rotation=45) #หมุนตัวหนังสือ 45 องศา\n",
        "sns.countplot(x=merge_rt_dp['Score'])\n",
        "plt.show()\n",
        "\n",
        "print(f'\\n-----------Disney+ Score-----------')\n",
        "print(merge_rt_dp['Score'].value_counts())"
      ],
      "metadata": {
        "colab": {
          "base_uri": "https://localhost:8080/",
          "height": 547
        },
        "id": "NuwT0z7E20QN",
        "outputId": "e4d5f979-c98e-4d6b-cd4b-e3ff1cc18795"
      },
      "execution_count": null,
      "outputs": [
        {
          "output_type": "display_data",
          "data": {
            "text/plain": [
              "<Figure size 720x360 with 1 Axes>"
            ],
            "image/png": "[encoded data removed]"
          },
          "metadata": {
            "needs_background": "light"
          }
        },
        {
          "output_type": "stream",
          "name": "stdout",
          "text": [
            "\n",
            "-----------Disney+ Score-----------\n",
            "50-59     206\n",
            "60-69     170\n",
            "40-49     159\n",
            "70-79     108\n",
            "80-89      46\n",
            "30-39      33\n",
            "10-19      11\n",
            "90-100      1\n",
            "Name: Score, dtype: int64\n"
          ]
        }
      ]
    },
    {
      "cell_type": "code",
      "source": [
        "print('-------------Netflix-------------')\n",
        "print(merge_rt_nf['Rotten Tomatoes'].describe())\n",
        "\n",
        "print('\\n-------------Disney+-------------')\n",
        "print(merge_rt_dp['Rotten Tomatoes'].describe())"
      ],
      "metadata": {
        "colab": {
          "base_uri": "https://localhost:8080/"
        },
        "id": "EaL23nUX3QDi",
        "outputId": "ae972691-a1a1-4884-abd6-ea86c9ceea18"
      },
      "execution_count": null,
      "outputs": [
        {
          "output_type": "stream",
          "name": "stdout",
          "text": [
            "-------------Netflix-------------\n",
            "count    3042.000000\n",
            "mean       54.928337\n",
            "std        13.936819\n",
            "min        10.000000\n",
            "25%        45.000000\n",
            "50%        54.000000\n",
            "75%        64.000000\n",
            "max        98.000000\n",
            "Name: Rotten Tomatoes, dtype: float64\n",
            "\n",
            "-------------Disney+-------------\n",
            "count    734.000000\n",
            "mean      58.134877\n",
            "std       13.575902\n",
            "min       10.000000\n",
            "25%       49.000000\n",
            "50%       58.000000\n",
            "75%       67.000000\n",
            "max       96.000000\n",
            "Name: Rotten Tomatoes, dtype: float64\n"
          ]
        }
      ]
    },
    {
      "cell_type": "markdown",
      "source": [
        "**จากการวิเคราะห์**\n",
        "\n",
        "**Netflix**\n",
        "\n",
        "> มีคะแนนเฉลี่ยอยู่ที่: 54.9 คะแนน\n",
        "\n",
        "> หนังที่มีคะแนนต่ำที่สุดคือ: 10 คะแนน\n",
        "\n",
        "> หนังที่มีคะแนนสูงที่สุดคือ: 98 คะแนน\n",
        "\n",
        "> จากหนังทั้งหมด 3042 เรื่อง\n",
        "\n",
        "\n",
        "**Disney+**\n",
        "\n",
        "> มีคะแนนเฉลี่ยอยู่ที่: 58.1 คะแนน\n",
        "\n",
        "> หนังที่มีคะแนนต่ำที่สุดคือ: 10 คะแนน\n",
        "\n",
        "> หนังที่มีคะแนนสูงที่สุดคือ: 96 คะแนน\n",
        "\n",
        "> จากหนังทั้งหมด 734 เรื่อง\n",
        "\n",
        "---"
      ],
      "metadata": {
        "id": "JVHwuO3I4EyS"
      }
    },
    {
      "cell_type": "markdown",
      "source": [
        "# **Model the Data**"
      ],
      "metadata": {
        "id": "VReRGoc5vn-V"
      }
    },
    {
      "cell_type": "markdown",
      "source": [
        "## **กราฟประเภทของหนัง ระหว่าง Netflix และ Disney+**\n"
      ],
      "metadata": {
        "id": "qD9zciuPDkC8"
      }
    },
    {
      "cell_type": "code",
      "source": [
        "#กำหนด Type list ของข้อมูล\n",
        "typelist=['Drama', 'Comedy','Triller','Musical','Adventure','Animation','Family','Kid','Documentaries']"
      ],
      "metadata": {
        "id": "Iqd_YLXUzvCe"
      },
      "execution_count": null,
      "outputs": []
    },
    {
      "cell_type": "code",
      "source": [
        "#ปรับแต่งกราฟ\n",
        "fig, ax = plt.subplots(figsize=(15,7.5),facecolor=\"#363336\") #figsize = ปรับขนาดกราฟ | facecolor = ปรับสีรอบกราฟ\n",
        "ax.patch.set_facecolor('#363336') #ปรับสีด้านในกราฟ\n",
        "\n",
        "#พล็อตกราฟ | label = เพิ่มชื่อข้อมูลของเส้น | lw = linewidth = ความหนาของเส้น\n",
        "ax1 = sns.lineplot(x=typelist, y=type_nf, color = nf_color, label = 'Netflix', lw = 4)\n",
        "ax2 = sns.lineplot(ax=ax, x=typelist, y=type_dp, color = dp_color, label = 'Disney+', lw = 4)\n",
        "plt.legend(fontsize=15) #ขนาดตัวอักษร label มุมขวาบน\n",
        "\n",
        "#ปรับแต่งกราฟ | labelsize = ขนาดตัวหนังสือ\n",
        "ax.tick_params(axis='x', colors='#FFFFFF', labelsize=15)\n",
        "ax.tick_params(axis='y', colors='#FFFFFF', labelsize=15)\n",
        "\n",
        "#เพิ่มชื่อกราฟ\n",
        "plt.title('Number of Movie Types Between Netflix and Disney+', fontsize=20, color = '#FFFFFF')\n",
        "\n",
        "#เพิ่มชื่อ label ของ x และ y\n",
        "plt.xlabel('Types of Movies', color = '#FFFFFF', fontsize = 15)\n",
        "plt.ylabel('Number of Movie Types', color = '#FFFFFF', fontsize = 15)\n",
        "\n",
        "#เปลี่ยนสีเส้นขอบ\n",
        "ax.spines['bottom'].set_color('#FFFFFF')\n",
        "ax.spines['left'].set_color('#FFFFFF')\n",
        "\n",
        "#ทำให้เส้นขอบหายไป | True = visible | False = invisible\n",
        "ax.spines['right'].set_visible(False)\n",
        "ax.spines['top'].set_visible(False)\n",
        "\n",
        "#เพิ่มเส้น grid ในกราฟ | alpha = ความชัดของเส้น\n",
        "ax.grid(True, alpha=0.3)\n",
        "\n",
        "#เพิ่มข้อความในกราฟ\n",
        "#plt.text(0, 835, 'Type of Movies', fontsize = 20, color = '#FFFFFF')\n",
        "\n",
        "plt.show()"
      ],
      "metadata": {
        "colab": {
          "base_uri": "https://localhost:8080/",
          "height": 501
        },
        "id": "1Is1VXVvNnJg",
        "outputId": "c8274237-2755-4268-a4c7-7f31f282e41a"
      },
      "execution_count": null,
      "outputs": [
        {
          "output_type": "display_data",
          "data": {
            "text/plain": [
              "<Figure size 1080x540 with 1 Axes>"
            ],
            "image/png": "[encoded data removed]"
          },
          "metadata": {}
        }
      ]
    },
    {
      "cell_type": "markdown",
      "source": [
        "## **กราฟประเภทและจำนวนเรทติ้ง ระหว่าง Netflix และ Disney+**"
      ],
      "metadata": {
        "id": "q0NDh6XUEVC9"
      }
    },
    {
      "cell_type": "code",
      "source": [
        "#กำหนดข้อมูลช่วงอายุ\n",
        "age=['Kid','7+','13+','16+','18+']\n",
        "kid_nf=41+307+220\n",
        "kid_dp=253+318+50\n",
        "nf_7p=287+334+6+863\n",
        "dp_7p=236+131+13+301\n",
        "nf_13p=490\n",
        "df_13p=66\n",
        "nf_16p=2160\n",
        "df_16p=79\n",
        "nf_18p=3+84+799+3207\n",
        "df_18p=3\n",
        "\n",
        "rating_nf=[kid_nf,nf_7p,nf_13p,nf_16p,nf_18p]\n",
        "rating_dp=[kid_dp,dp_7p,df_13p,df_16p,df_18p]"
      ],
      "metadata": {
        "id": "xnRDDKMpEQoN"
      },
      "execution_count": null,
      "outputs": []
    },
    {
      "cell_type": "code",
      "source": [
        "#ปรับแต่งกราฟ\n",
        "fig, ax = plt.subplots(figsize=(15,7.5),facecolor=\"#363336\") #figsize = ปรับขนาดกราฟ | facecolor = ปรับสีรอบกราฟ\n",
        "ax.patch.set_facecolor('#363336') #ปรับสีด้านในกราฟ\n",
        "\n",
        "#พล็อตกราฟ | label = เพิ่มชื่อข้อมูลของเส้น | lw = linewidth = ความหนาของเส้น\n",
        "ax1 = sns.lineplot(x=age, y=rating_nf, color = nf_color, label = 'Netflix', lw = 4)\n",
        "ax2 = sns.lineplot(ax=ax, x=age, y=rating_dp, color = dp_color, label = 'Disney+', lw = 4)\n",
        "plt.legend(fontsize=15) #ขนาดตัวอักษร label มุมขวาบน\n",
        "\n",
        "#ปรับแต่งกราฟ | labelsize = ขนาดตัวหนังสือ\n",
        "ax.tick_params(axis='x', colors='#FFFFFF', labelsize=15)\n",
        "ax.tick_params(axis='y', colors='#FFFFFF', labelsize=15)\n",
        "\n",
        "#เพิ่มชื่อกราฟ\n",
        "plt.title('Number of Ratings Between Netflix and Disney+', fontsize=20, color = '#FFFFFF')\n",
        "\n",
        "#เพิ่มชื่อ label ของ x และ y\n",
        "plt.xlabel('Rating', color = '#FFFFFF', fontsize = 15)\n",
        "plt.ylabel('Number of Rating', color = '#FFFFFF', fontsize = 15)\n",
        "\n",
        "#เปลี่ยนสีเส้นขอบ\n",
        "ax.spines['bottom'].set_color('#FFFFFF')\n",
        "ax.spines['left'].set_color('#FFFFFF')\n",
        "\n",
        "#ทำให้เส้นขอบหายไป | True = visible | False = invisible\n",
        "ax.spines['right'].set_visible(False)\n",
        "ax.spines['top'].set_visible(False)\n",
        "\n",
        "#เพิ่มเส้น grid ในกราฟ | alpha = ความชัดของเส้น\n",
        "ax.grid(True, alpha=0.3)\n",
        "\n",
        "#เพิ่มข้อความในกราฟ\n",
        "#plt.text(0, 835, 'Number of Ratings', fontsize = 20, color = '#FFFFFF')\n",
        "\n",
        "plt.show()"
      ],
      "metadata": {
        "colab": {
          "base_uri": "https://localhost:8080/",
          "height": 501
        },
        "id": "n1KQ9YXjMbTJ",
        "outputId": "a2c79118-0aab-4828-d2bd-2722a09fb0e8"
      },
      "execution_count": null,
      "outputs": [
        {
          "output_type": "display_data",
          "data": {
            "text/plain": [
              "<Figure size 1080x540 with 1 Axes>"
            ],
            "image/png": "[encoded data removed]"
          },
          "metadata": {}
        }
      ]
    },
    {
      "cell_type": "markdown",
      "source": [
        "## **กราฟปีที่มีการเพิ่มหนังเข้ามาระหว่าง Netflix และ Disney+**"
      ],
      "metadata": {
        "id": "dfj8WlMrPBKW"
      }
    },
    {
      "cell_type": "code",
      "source": [
        "#กำหนดข้อมูลช่วงปี\n",
        "year=[2008,2009,2010,2011,2012,2013,2014,2015,2016,2017,2018,2019,2020,2021]\n",
        "year_nf=[2,2,1,13,3,11,24,82,430,1193,1652,2017,1879, 1498]\n",
        "year_dp=[0,0,0,0,0,0,0,0,0,0,0,768,352,330]"
      ],
      "metadata": {
        "id": "585j2oOhQ3mU"
      },
      "execution_count": null,
      "outputs": []
    },
    {
      "cell_type": "code",
      "source": [
        "#ปรับแต่งกราฟ\n",
        "fig, ax = plt.subplots(figsize=(15,7.5),facecolor=\"#363336\") #figsize = ปรับขนาดกราฟ | facecolor = ปรับสีรอบกราฟ\n",
        "ax.patch.set_facecolor('#363336') #ปรับสีด้านในกราฟ\n",
        "\n",
        "#พล็อตกราฟ | label = เพิ่มชื่อข้อมูลของเส้น | lw = linewidth = ความหนาของเส้น\n",
        "ax1 = sns.lineplot(x=year, y=year_nf, color = nf_color, label = 'Netflix', lw = 4)\n",
        "ax2 = sns.lineplot(ax=ax, x=year, y=year_dp, color = dp_color, label = 'Disney+', lw = 4)\n",
        "plt.legend(fontsize=15) #ขนาดตัวอักษร label มุมขวาบน\n",
        "\n",
        "#ปรับแต่งกราฟ | labelsize = ขนาดตัวหนังสือ\n",
        "ax.tick_params(axis='x', colors='#FFFFFF', labelsize=15)\n",
        "ax.tick_params(axis='y', colors='#FFFFFF', labelsize=15)\n",
        "\n",
        "#เพิ่มชื่อกราฟ\n",
        "plt.title('Years When Movies Were Added Between Netflix and Disney+.', fontsize=20, color = '#FFFFFF')\n",
        "\n",
        "#เพิ่มชื่อ label ของ x และ y\n",
        "plt.xlabel('Years', color = '#FFFFFF', fontsize = 15)\n",
        "plt.ylabel('Number of movies added', color = '#FFFFFF', fontsize = 15)\n",
        "\n",
        "#เปลี่ยนสีเส้นขอบ\n",
        "ax.spines['bottom'].set_color('#FFFFFF')\n",
        "ax.spines['left'].set_color('#FFFFFF')\n",
        "\n",
        "#ทำให้เส้นขอบหายไป | True = visible | False = invisible\n",
        "ax.spines['right'].set_visible(False)\n",
        "ax.spines['top'].set_visible(False)\n",
        "\n",
        "#เพิ่มเส้น grid ในกราฟ | alpha = ความชัดของเส้น\n",
        "ax.grid(True, alpha=0.3)\n",
        "\n",
        "#เพิ่มข้อความในกราฟ\n",
        "#plt.text(0, 835, 'Year When Movies Were Added', fontsize = 20, color = '#FFFFFF')\n",
        "\n",
        "plt.show()"
      ],
      "metadata": {
        "colab": {
          "base_uri": "https://localhost:8080/",
          "height": 501
        },
        "id": "JkL6M-AUIihi",
        "outputId": "6485c6d1-0d41-4d8c-fe20-a901fc92c468"
      },
      "execution_count": null,
      "outputs": [
        {
          "output_type": "display_data",
          "data": {
            "text/plain": [
              "<Figure size 1080x540 with 1 Axes>"
            ],
            "image/png": "[encoded data removed]"
          },
          "metadata": {}
        }
      ]
    },
    {
      "cell_type": "markdown",
      "source": [
        "## **กราฟคะแนนจาก Rotten Tomatoes ของ Netflix และ Disney+**"
      ],
      "metadata": {
        "id": "4pH8QU0KTWs_"
      }
    },
    {
      "cell_type": "code",
      "source": [
        "#กำหนดช่วงของคะแนน\n",
        "score=['10-19','20-29','30-39','40-49','50-59','60-69','70-79','80-89','90-100']\n",
        "score_nf=[46,8,296,767,860,585,333,132,15]\n",
        "score_dp=[11,0,33,159,206,170,108,46,1]"
      ],
      "metadata": {
        "id": "lU1725nVTYod"
      },
      "execution_count": null,
      "outputs": []
    },
    {
      "cell_type": "code",
      "source": [
        "#ปรับแต่งกราฟ\n",
        "fig, ax = plt.subplots(figsize=(15,7.5),facecolor=\"#363336\") #figsize = ปรับขนาดกราฟ | facecolor = ปรับสีรอบกราฟ\n",
        "ax.patch.set_facecolor('#363336') #ปรับสีด้านในกราฟ\n",
        "\n",
        "#พล็อตกราฟ | label = เพิ่มชื่อข้อมูลของเส้น | lw = linewidth = ความหนาของเส้น\n",
        "ax1 = sns.lineplot(x=score, y=score_nf, color = nf_color, label = 'Netflix', lw = 4)\n",
        "ax2 = sns.lineplot(ax=ax, x=score, y=score_dp, color = dp_color, label = 'Disney+', lw = 4)\n",
        "plt.legend(fontsize=15) #ขนาดตัวอักษร label มุมขวาบน\n",
        "\n",
        "#ปรับแต่งกราฟ | labelsize = ขนาดตัวหนังสือ\n",
        "ax.tick_params(axis='x', colors='#FFFFFF', labelsize=15)\n",
        "ax.tick_params(axis='y', colors='#FFFFFF', labelsize=15)\n",
        "\n",
        "#เพิ่มชื่อกราฟ\n",
        "plt.title('Rotten Tomatoes Score Between Netflix and Disney+', fontsize=20, color = '#FFFFFF')\n",
        "\n",
        "#เพิ่มชื่อ label ของ x และ y\n",
        "plt.xlabel('Score Range', color = '#FFFFFF', fontsize = 15)\n",
        "plt.ylabel('Score', color = '#FFFFFF', fontsize = 15)\n",
        "\n",
        "#เปลี่ยนสีเส้นขอบ\n",
        "ax.spines['bottom'].set_color('#FFFFFF')\n",
        "ax.spines['left'].set_color('#FFFFFF')\n",
        "\n",
        "#ทำให้เส้นขอบหายไป | True = visible | False = invisible\n",
        "ax.spines['right'].set_visible(False)\n",
        "ax.spines['top'].set_visible(False)\n",
        "\n",
        "#เพิ่มเส้น grid ในกราฟ | alpha = ความชัดของเส้น\n",
        "ax.grid(True, alpha=0.3)\n",
        "\n",
        "#เพิ่มข้อความในกราฟ\n",
        "#plt.text(0, 835, 'Rotten Tomatoes Score', fontsize = 20, color = '#FFFFFF')\n",
        "\n",
        "plt.show()"
      ],
      "metadata": {
        "colab": {
          "base_uri": "https://localhost:8080/",
          "height": 501
        },
        "id": "gg20FrSDIGaH",
        "outputId": "f4778c70-7999-4824-8000-f92255cc7cae"
      },
      "execution_count": null,
      "outputs": [
        {
          "output_type": "display_data",
          "data": {
            "text/plain": [
              "<Figure size 1080x540 with 1 Axes>"
            ],
            "image/png": "[encoded data removed]"
          },
          "metadata": {}
        }
      ]
    }
  ]
}